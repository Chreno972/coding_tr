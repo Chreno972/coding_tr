{
 "cells": [
  {
   "cell_type": "markdown",
   "id": "ecd6f764",
   "metadata": {
    "pycharm": {
     "name": "#%% md\n"
    }
   },
   "source": [
    "# Opérations *bit à bit* (*bitwise*)"
   ]
  },
  {
   "cell_type": "markdown",
   "id": "f04c4e7f",
   "metadata": {
    "pycharm": {
     "name": "#%% md\n"
    }
   },
   "source": [
    "## Compléments - niveau avancé"
   ]
  },
  {
   "cell_type": "markdown",
   "id": "f334a457",
   "metadata": {
    "pycharm": {
     "name": "#%% md\n"
    }
   },
   "source": [
    "Les compléments ci-dessous expliquent des fonctions évoluées sur les entiers. Les débutants en programmation peuvent sans souci sauter cette partie en cas de difficultés."
   ]
  },
  {
   "cell_type": "markdown",
   "id": "42965bbd",
   "metadata": {
    "pycharm": {
     "name": "#%% md\n"
    }
   },
   "source": [
    "### Opérations logiques : *ET* `&`, *OU* `|` et *OU* exclusif `^`"
   ]
  },
  {
   "cell_type": "markdown",
   "id": "f6ddf5c6",
   "metadata": {
    "pycharm": {
     "name": "#%% md\n"
    }
   },
   "source": [
    "Il est possible aussi de faire des opérations *bit à bit* sur les nombres entiers. Le plus simple est de penser à l'écriture du nombre en base 2.\n",
    "\n",
    "Considérons par exemple deux entiers constants dans cet exercice"
   ]
  },
  {
   "cell_type": "code",
   "execution_count": null,
   "id": "dbdf84ad",
   "metadata": {
    "pycharm": {
     "name": "#%%\n"
    }
   },
   "outputs": [],
   "source": [
    "x49 = 49\n",
    "y81 = 81"
   ]
  },
  {
   "cell_type": "markdown",
   "id": "155067f0",
   "metadata": {
    "pycharm": {
     "name": "#%% md\n"
    }
   },
   "source": [
    "Ce qui nous donne comme décomposition binaire :\n",
    "\n",
    "$\\begin{array}{rcccccc}\n",
    "x49 & = & 49 & = & 32 + 16 + 1 & \\rightarrow &(0,1,1,0,0,0,1) \\\\\n",
    "y81 & = & 81 & = & 64 + 16 + 1 & \\rightarrow &(1,0,1,0,0,0,1)\n",
    "\\end{array}$"
   ]
  },
  {
   "cell_type": "markdown",
   "id": "dbbf527f",
   "metadata": {
    "pycharm": {
     "name": "#%% md\n"
    }
   },
   "source": [
    "Pour comprendre comment passer de $32 + 16 + 1$ à $(0,1,1,0,0,0,1)$ il suffit d'observer que :\n",
    "\n",
    "$32 + 16 + 1 =\n",
    "\\textbf{0}*2^6 +\n",
    "\\textbf{1}*2^5 +\n",
    "\\textbf{1}*2^4 +\n",
    "\\textbf{0}*2^3 +\n",
    "\\textbf{0}*2^2 +\n",
    "\\textbf{0}*2^1 +\n",
    "\\textbf{1}*2^0$"
   ]
  },
  {
   "cell_type": "markdown",
   "id": "eb54e2e5",
   "metadata": {
    "pycharm": {
     "name": "#%% md\n"
    }
   },
   "source": [
    "#### *ET* logique : opérateur `&`"
   ]
  },
  {
   "cell_type": "markdown",
   "id": "ef8eb560",
   "metadata": {
    "pycharm": {
     "name": "#%% md\n"
    }
   },
   "source": [
    "L'opération logique `&` va faire un *et* logique bit à bit entre les opérandes, ainsi"
   ]
  },
  {
   "cell_type": "code",
   "execution_count": null,
   "id": "91993a8d",
   "metadata": {
    "pycharm": {
     "name": "#%%\n"
    }
   },
   "outputs": [],
   "source": [
    "x49 & y81"
   ]
  },
  {
   "cell_type": "markdown",
   "id": "54eb7ae1",
   "metadata": {
    "pycharm": {
     "name": "#%% md\n"
    }
   },
   "source": [
    "Et en effet :\n",
    "\n",
    "$\\begin{array}{rcl}\n",
    "x49          & \\rightarrow & (0,1,1,0,0,0,1) \\\\\n",
    "y81          & \\rightarrow & (1,0,1,0,0,0,1) \\\\\n",
    "x49\\ \\&\\ y81 & \\rightarrow & (0,0,1,0,0,0,1) \\rightarrow 16 + 1 \\rightarrow 17\n",
    "\\end{array}$"
   ]
  },
  {
   "cell_type": "markdown",
   "id": "2d6ab147",
   "metadata": {
    "pycharm": {
     "name": "#%% md\n"
    }
   },
   "source": [
    "#### *OU* logique : opérateur `|`"
   ]
  },
  {
   "cell_type": "markdown",
   "id": "7fcab5fd",
   "metadata": {
    "pycharm": {
     "name": "#%% md\n"
    }
   },
   "source": [
    "De même, l'opérateur logique `|` fait simplement un *ou* logique, comme ceci :"
   ]
  },
  {
   "cell_type": "code",
   "execution_count": null,
   "id": "8a9563f8",
   "metadata": {
    "pycharm": {
     "name": "#%%\n"
    }
   },
   "outputs": [],
   "source": [
    "x49 | y81"
   ]
  },
  {
   "cell_type": "markdown",
   "id": "9bbcab01",
   "metadata": {
    "pycharm": {
     "name": "#%% md\n"
    }
   },
   "source": [
    "On s'y retrouve parce que :\n",
    "\n",
    "$\\begin{array}{rcl}\n",
    "x49         & \\rightarrow & (0,1,1,0,0,0,1) \\\\\n",
    "y81         & \\rightarrow & (1,0,1,0,0,0,1) \\\\\n",
    "x49\\ |\\ y81 & \\rightarrow & (1,1,1,0,0,0,1) \\rightarrow 64 + 32 + 16 + 1 \\rightarrow 113\n",
    "\\end{array}$"
   ]
  },
  {
   "cell_type": "markdown",
   "id": "39fb7f15",
   "metadata": {
    "pycharm": {
     "name": "#%% md\n"
    }
   },
   "source": [
    "#### *OU* exclusif : opérateur `^`"
   ]
  },
  {
   "cell_type": "markdown",
   "id": "ada07cea",
   "metadata": {
    "pycharm": {
     "name": "#%% md\n"
    }
   },
   "source": [
    "Enfin, on peut également faire la même opération à base de *ou* exclusif avec l'opérateur `^` :"
   ]
  },
  {
   "cell_type": "code",
   "execution_count": null,
   "id": "d9cd66da",
   "metadata": {
    "pycharm": {
     "name": "#%%\n"
    }
   },
   "outputs": [],
   "source": [
    "x49 ^ y81"
   ]
  },
  {
   "cell_type": "markdown",
   "id": "12086e69",
   "metadata": {
    "pycharm": {
     "name": "#%% md\n"
    }
   },
   "source": [
    "Je vous laisse le soin de décortiquer le calcul à titre d'exercice (le *ou* exclusif de deux bits est vrai si et seulement si exactement une des deux entrées est vraie)."
   ]
  },
  {
   "cell_type": "markdown",
   "id": "3953bedc",
   "metadata": {
    "pycharm": {
     "name": "#%% md\n"
    }
   },
   "source": [
    "### Décalages"
   ]
  },
  {
   "cell_type": "markdown",
   "id": "8ea6a27c",
   "metadata": {
    "pycharm": {
     "name": "#%% md\n"
    }
   },
   "source": [
    "Un décalage **à gauche** de, par exemple, 4 positions, revient à décaler tout le champ de bits de 4 cases à gauche (les 4 nouveaux bits insérés sont toujours des 0). C'est donc équivalent à une **multiplication** par $2^4 = 16$ :"
   ]
  },
  {
   "cell_type": "code",
   "execution_count": null,
   "id": "5ea606a8",
   "metadata": {
    "pycharm": {
     "name": "#%%\n"
    }
   },
   "outputs": [],
   "source": [
    "x49 << 4"
   ]
  },
  {
   "cell_type": "markdown",
   "id": "bfe8765c",
   "metadata": {
    "pycharm": {
     "name": "#%% md\n"
    }
   },
   "source": [
    "$\\begin{array}{rcl}\n",
    "x49        & \\rightarrow & (0,1,1,0,0,0,1) \\\\\n",
    "x49\\ <<\\ 4 & \\rightarrow & (0,1,1,0,0,0,1,0,0,0,0) \\rightarrow 512 + 256 + 16 \\rightarrow 784\n",
    "\\end{array}$"
   ]
  },
  {
   "cell_type": "markdown",
   "id": "844a1954",
   "metadata": {
    "pycharm": {
     "name": "#%% md\n"
    }
   },
   "source": [
    "De la même manière, le décalage à **droite** de $n$ revient à une **division** par $2^n$ (plus précisément, le quotient de la division) :"
   ]
  },
  {
   "cell_type": "code",
   "execution_count": null,
   "id": "3f76d0d8",
   "metadata": {
    "pycharm": {
     "name": "#%%\n"
    }
   },
   "outputs": [],
   "source": [
    "x49 >> 4"
   ]
  },
  {
   "cell_type": "markdown",
   "id": "80b7e813",
   "metadata": {
    "pycharm": {
     "name": "#%% md\n"
    }
   },
   "source": [
    "$\\begin{array}{rcl}\n",
    "x49        & \\rightarrow &         (0,1,1,0,0,0,1) \\\\\n",
    "x49\\ >>\\ 4 & \\rightarrow & (0,0,0,0,0,1,1) \\rightarrow 2 + 1 \\rightarrow 3\n",
    "\\end{array}$"
   ]
  },
  {
   "cell_type": "markdown",
   "id": "83e7b953",
   "metadata": {
    "pycharm": {
     "name": "#%% md\n"
    }
   },
   "source": [
    "### Une astuce"
   ]
  },
  {
   "cell_type": "markdown",
   "id": "e97a3e06",
   "metadata": {
    "pycharm": {
     "name": "#%% md\n"
    }
   },
   "source": [
    "On peut utiliser la fonction *built-in* `bin` pour calculer la représentation binaire d'un entier. Attention, la valeur de retour est une chaîne de caractères de type `str` :"
   ]
  },
  {
   "cell_type": "code",
   "execution_count": null,
   "id": "9404787e",
   "metadata": {
    "pycharm": {
     "name": "#%%\n"
    }
   },
   "outputs": [],
   "source": [
    "bin(x49)"
   ]
  },
  {
   "cell_type": "markdown",
   "id": "752557f6",
   "metadata": {
    "pycharm": {
     "name": "#%% md\n"
    }
   },
   "source": [
    "Dans l'autre sens, on peut aussi entrer un entier directement en base 2 comme ceci :"
   ]
  },
  {
   "cell_type": "code",
   "execution_count": null,
   "id": "5f9b0355",
   "metadata": {
    "pycharm": {
     "name": "#%%\n"
    }
   },
   "outputs": [],
   "source": [
    "x49bis = 0b110001\n",
    "x49bis == x49"
   ]
  },
  {
   "cell_type": "markdown",
   "id": "6ae322ff",
   "metadata": {
    "pycharm": {
     "name": "#%% md\n"
    }
   },
   "source": [
    "Ici, comme on le voit, `x49bis` est bien un entier."
   ]
  },
  {
   "cell_type": "markdown",
   "id": "dd0361a5",
   "metadata": {
    "pycharm": {
     "name": "#%% md\n"
    }
   },
   "source": [
    "### Pour en savoir plus"
   ]
  },
  {
   "cell_type": "markdown",
   "id": "b66b83db",
   "metadata": {
    "pycharm": {
     "name": "#%% md\n"
    }
   },
   "source": [
    "[Section de la documentation Python](https://docs.python.org/3/library/stdtypes.html#bitwise-operations-on-integer-types)."
   ]
  }
 ],
 "metadata": {
  "jupytext": {
   "cell_metadata_filter": "all, -hidden, -heading_collapsed, -run_control, -trusted",
   "notebook_metadata_filter": "all, -jupytext.text_representation.jupytext_version, -jupytext.text_representation.format_version, -language_info.version, -language_info.codemirror_mode.version, -language_info.codemirror_mode, -language_info.file_extension, -language_info.mimetype, -toc",
   "text_representation": {
    "extension": ".md",
    "format_name": "myst"
   }
  },
  "kernelspec": {
   "display_name": "Python 3 (ipykernel)",
   "language": "python",
   "name": "python3"
  },
  "language_info": {
   "name": "python",
   "nbconvert_exporter": "python",
   "pygments_lexer": "ipython3"
  },
  "notebookname": "Opérations bitwise",
  "version": "3.0"
 },
 "nbformat": 4,
 "nbformat_minor": 5
}