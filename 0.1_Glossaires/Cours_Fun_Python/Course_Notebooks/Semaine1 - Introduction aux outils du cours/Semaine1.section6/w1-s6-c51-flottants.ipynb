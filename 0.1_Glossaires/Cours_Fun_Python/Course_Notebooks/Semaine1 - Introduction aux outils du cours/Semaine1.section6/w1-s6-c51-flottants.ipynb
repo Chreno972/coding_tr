{
 "cells": [
  {
   "cell_type": "markdown",
   "id": "873cf113",
   "metadata": {
    "pycharm": {
     "name": "#%% md\n"
    }
   },
   "source": [
    "# Estimer le plus petit (grand) flottant"
   ]
  },
  {
   "cell_type": "markdown",
   "id": "04a70c92",
   "metadata": {
    "pycharm": {
     "name": "#%% md\n"
    }
   },
   "source": [
    "## Exercice - niveau basique"
   ]
  },
  {
   "cell_type": "markdown",
   "id": "9ef8f901",
   "metadata": {
    "pycharm": {
     "name": "#%% md\n"
    }
   },
   "source": [
    "### Le plus petit flottant"
   ]
  },
  {
   "cell_type": "markdown",
   "id": "b4f58e32",
   "metadata": {
    "pycharm": {
     "name": "#%% md\n"
    }
   },
   "source": [
    "En corollaire de la discussion sur la précision des flottants, il faut savoir que le système de codage en mémoire impose aussi une limite. Les réels très petits, ou très grands, ne peuvent plus être représentés de cette manière.\n",
    "\n",
    "C'est notamment très gênant si vous implémentez un logiciel probabiliste, comme des graphes de Markov, où les probabilités d'occurrence de séquences très longues tendent très rapidement vers des valeurs extrêmement petites."
   ]
  },
  {
   "cell_type": "markdown",
   "id": "1c6e8f76",
   "metadata": {
    "pycharm": {
     "name": "#%% md\n"
    }
   },
   "source": [
    "Le but de cet exercice est d'estimer la valeur du plus petit flottant qui peut être représenté comme un flottant. Pour vous aider, voici deux valeurs :"
   ]
  },
  {
   "cell_type": "code",
   "execution_count": null,
   "id": "6f69a87e",
   "metadata": {
    "pycharm": {
     "name": "#%%\n"
    }
   },
   "outputs": [],
   "source": [
    "10**-320"
   ]
  },
  {
   "cell_type": "code",
   "execution_count": null,
   "id": "8bc10c99",
   "metadata": {
    "pycharm": {
     "name": "#%%\n"
    }
   },
   "outputs": [],
   "source": [
    "10**-330"
   ]
  },
  {
   "cell_type": "markdown",
   "id": "93d3c785",
   "metadata": {
    "pycharm": {
     "name": "#%% md\n"
    }
   },
   "source": [
    "Comme on le voit, $10^{-320}$ est correctement imprimé, alors que $10^{-330}$ est, de manière erronée, rapporté comme étant nul."
   ]
  },
  {
   "cell_type": "markdown",
   "id": "dce99ab7",
   "metadata": {
    "pycharm": {
     "name": "#%% md\n"
    }
   },
   "source": [
    "**Notes :**\n",
    "\n",
    "* À ce stade du cours, pour estimer le plus petit flottant, procédez simplement par approximations successives.\n",
    "\n",
    "* Sans utiliser de boucle, la précision que vous pourrez obtenir n'est que fonction de votre patience, ne dépassez pas 4 à 5 itérations successives :)\n",
    "\n",
    "* Il est par contre pertinent d'utiliser une approche rationnelle pour déterminer l'itération suivante (par opposition à une approche \"au petit bonheur\"). Pour ceux qui ne connaissent pas, nous vous recommandons de vous documenter sur l'algorithme de [**dichotomie**](https://fr.wikipedia.org/wiki/Recherche_dichotomique)."
   ]
  },
  {
   "cell_type": "code",
   "execution_count": null,
   "id": "486e95a8",
   "metadata": {
    "pycharm": {
     "name": "#%%\n"
    }
   },
   "outputs": [],
   "source": [
    "10**-325"
   ]
  },
  {
   "cell_type": "markdown",
   "id": "88477796",
   "metadata": {
    "pycharm": {
     "name": "#%% md\n"
    }
   },
   "source": [
    "Voici quelques cellules de code vides ; vous pouvez en créer d'autres si nécessaire, le plus simple étant de taper `Alt+Enter`, ou d'utiliser le menu _\"Insert -> Insert Cell Below\"_"
   ]
  },
  {
   "cell_type": "code",
   "execution_count": null,
   "id": "60307604",
   "metadata": {
    "pycharm": {
     "name": "#%%\n"
    }
   },
   "outputs": [],
   "source": [
    "10**-323.5"
   ]
  },
  {
   "cell_type": "code",
   "execution_count": null,
   "id": "3643f761",
   "metadata": {
    "pycharm": {
     "name": "#%%\n"
    }
   },
   "outputs": [],
   "source": [
    ".24*10**-323"
   ]
  },
  {
   "cell_type": "markdown",
   "id": "b95394cb",
   "metadata": {
    "pycharm": {
     "name": "#%% md\n"
    }
   },
   "source": [
    "### Le plus grand flottant"
   ]
  },
  {
   "cell_type": "markdown",
   "id": "ec49d5a3",
   "metadata": {
    "pycharm": {
     "name": "#%% md\n"
    }
   },
   "source": [
    "La même limitation s'applique sur les grands nombres. Toutefois, cela est un peu moins évident, car comme toujours il faut faire attention aux types :"
   ]
  },
  {
   "cell_type": "code",
   "execution_count": null,
   "id": "406d9105",
   "metadata": {
    "pycharm": {
     "name": "#%%\n"
    }
   },
   "outputs": [],
   "source": [
    "10**450"
   ]
  },
  {
   "cell_type": "markdown",
   "id": "92348b61",
   "metadata": {
    "pycharm": {
     "name": "#%% md\n"
    }
   },
   "source": [
    "Ce qui passe très bien car j'ai utilisé un `int` pour l'exposant. Dans ce premier cas Python calcule le résultat comme un `int`, qui est un type qui n'a pas de limitation de précision (Python utilise intelligemment autant de bits que nécessaire pour ce genre de calculs).\n",
    "\n",
    "Par contre, si j'essaie de faire le même calcul avec un exposant flottant, Python essaie cette fois de faire son calcul avec un flottant, et là on obtient une erreur :"
   ]
  },
  {
   "cell_type": "code",
   "execution_count": null,
   "id": "cbb3ca26",
   "metadata": {
    "latex:skip-eval": true,
    "pycharm": {
     "name": "#%%\n"
    }
   },
   "outputs": [],
   "source": [
    "10**450.0"
   ]
  },
  {
   "cell_type": "markdown",
   "id": "b257f147",
   "metadata": {
    "pycharm": {
     "name": "#%% md\n"
    }
   },
   "source": [
    "On peut d'ailleurs remarquer que le comportement ici n'est pas extrêmement cohérent, car avec les petits nombres Python nous a silencieusement transformé $10^{-330}$ en $0$, alors que pour les grands nombres, il lève une exception (nous verrons les exceptions plus tard, mais vous pouvez dès maintenant remarquer que le comportement est différent dans les deux cas)."
   ]
  },
  {
   "cell_type": "markdown",
   "id": "ec6a8deb",
   "metadata": {
    "pycharm": {
     "name": "#%% md\n"
    }
   },
   "source": [
    "Quoi qu'il en soit, la limite pour les grands nombres se situe entre les deux valeurs $10^{300}$ et $10^{310}$. On vous demande à nouveau d'estimer comme ci-dessus une valeur approchée du plus grand nombre qu'il soit possible de représenter comme un flottant."
   ]
  },
  {
   "cell_type": "code",
   "execution_count": null,
   "id": "8f692eb7",
   "metadata": {
    "pycharm": {
     "name": "#%%\n"
    }
   },
   "outputs": [],
   "source": [
    "10**300."
   ]
  },
  {
   "cell_type": "code",
   "execution_count": null,
   "id": "191430e2",
   "metadata": {
    "latex:skip-eval": true,
    "pycharm": {
     "name": "#%%\n"
    }
   },
   "outputs": [],
   "source": [
    "10**310."
   ]
  },
  {
   "cell_type": "code",
   "execution_count": null,
   "id": "4823ad22",
   "metadata": {
    "pycharm": {
     "name": "#%%\n"
    }
   },
   "outputs": [],
   "source": [
    "# vos essais successifs ici"
   ]
  },
  {
   "cell_type": "markdown",
   "id": "0819f619",
   "metadata": {
    "pycharm": {
     "name": "#%% md\n"
    }
   },
   "source": [
    "## Complément - niveau avancé"
   ]
  },
  {
   "cell_type": "markdown",
   "id": "97dc26fa",
   "metadata": {
    "pycharm": {
     "name": "#%% md\n"
    }
   },
   "source": [
    "En fait, on peut accéder à ces valeurs minimales et maximales pour les flottants comme ceci"
   ]
  },
  {
   "cell_type": "code",
   "execution_count": null,
   "id": "f5e2fbcb",
   "metadata": {
    "pycharm": {
     "name": "#%%\n"
    }
   },
   "outputs": [],
   "source": [
    "import sys\n",
    "print(sys.float_info)"
   ]
  },
  {
   "cell_type": "markdown",
   "id": "0d99d004",
   "metadata": {
    "pycharm": {
     "name": "#%% md\n"
    }
   },
   "source": [
    "Et notamment, [comme expliqué ici](https://docs.python.org/3/library/sys.html#sys.float_info)."
   ]
  },
  {
   "cell_type": "code",
   "execution_count": null,
   "id": "285ad063",
   "metadata": {
    "pycharm": {
     "name": "#%%\n"
    }
   },
   "outputs": [],
   "source": [
    "print(\"Flottant minimum\", sys.float_info.min)\n",
    "print(\"Flottant maximum\", sys.float_info.max)"
   ]
  },
  {
   "cell_type": "markdown",
   "id": "3bfed01b",
   "metadata": {
    "pycharm": {
     "name": "#%% md\n"
    }
   },
   "source": [
    "**Sauf que** vous devez avoir trouvé un maximum voisin de cette valeur, mais le minimum observé expérimentalement ne correspond pas bien à cette valeur.\n",
    "\n",
    "Pour ceux que cela intéresse, l'explication à cette apparente contradiction réside dans l'utilisation de [nombres dénormaux](http://en.wikipedia.org/wiki/Denormal%5Fnumber)."
   ]
  }
 ],
 "metadata": {
  "jupytext": {
   "cell_metadata_filter": "all, -hidden, -heading_collapsed, -run_control, -trusted",
   "notebook_metadata_filter": "all, -jupytext.text_representation.jupytext_version, -jupytext.text_representation.format_version, -language_info.version, -language_info.codemirror_mode.version, -language_info.codemirror_mode, -language_info.file_extension, -language_info.mimetype, -toc",
   "text_representation": {
    "extension": ".md",
    "format_name": "myst"
   }
  },
  "kernelspec": {
   "display_name": "Python 3 (ipykernel)",
   "language": "python",
   "name": "python3"
  },
  "language_info": {
   "name": "python",
   "nbconvert_exporter": "python",
   "pygments_lexer": "ipython3"
  },
  "notebookname": "Flottants extrêmes",
  "version": "3.0"
 },
 "nbformat": 4,
 "nbformat_minor": 5
}