{
 "cells": [
  {
   "cell_type": "markdown",
   "id": "4aeffe49",
   "metadata": {
    "pycharm": {
     "name": "#%% md\n"
    }
   },
   "source": [
    "# Affectations et Opérations (à la `+=`)"
   ]
  },
  {
   "cell_type": "markdown",
   "id": "d1c3b1c8",
   "metadata": {
    "pycharm": {
     "name": "#%% md\n"
    }
   },
   "source": [
    "## Complément - niveau intermédiaire"
   ]
  },
  {
   "cell_type": "markdown",
   "id": "41cb7779",
   "metadata": {
    "pycharm": {
     "name": "#%% md\n"
    }
   },
   "source": [
    "Il existe en Python toute une famille d'opérateurs dérivés de l'affectation qui permettent de faire en une fois une opération et une affectation. En voici quelques exemples."
   ]
  },
  {
   "cell_type": "markdown",
   "id": "76f4f028",
   "metadata": {
    "pycharm": {
     "name": "#%% md\n"
    }
   },
   "source": [
    "### Incrémentation"
   ]
  },
  {
   "cell_type": "markdown",
   "id": "d910ee6a",
   "metadata": {
    "pycharm": {
     "name": "#%% md\n"
    }
   },
   "source": [
    "On peut facilement augmenter la valeur d'une variable numérique comme ceci :"
   ]
  },
  {
   "cell_type": "code",
   "execution_count": null,
   "id": "4139b10c",
   "metadata": {
    "pycharm": {
     "name": "#%%\n"
    }
   },
   "outputs": [],
   "source": [
    "entier = 10\n",
    "\n",
    "entier += 2\n",
    "print('entier', entier)"
   ]
  },
  {
   "cell_type": "markdown",
   "id": "32248847",
   "metadata": {
    "pycharm": {
     "name": "#%% md\n"
    }
   },
   "source": [
    "Comme on le devine peut-être, ceci est équivalent à :"
   ]
  },
  {
   "cell_type": "code",
   "execution_count": null,
   "id": "0735bef5",
   "metadata": {
    "pycharm": {
     "name": "#%%\n"
    }
   },
   "outputs": [],
   "source": [
    "entier = 10\n",
    "\n",
    "entier = entier + 2\n",
    "print('entier', entier)"
   ]
  },
  {
   "cell_type": "markdown",
   "id": "e6b00d6c",
   "metadata": {
    "pycharm": {
     "name": "#%% md\n"
    }
   },
   "source": [
    "### Autres opérateurs courants"
   ]
  },
  {
   "cell_type": "markdown",
   "id": "4be1b024",
   "metadata": {
    "pycharm": {
     "name": "#%% md\n"
    }
   },
   "source": [
    "Cette forme, qui combine opération sur une variable et réaffectation du résultat à la même variable, est disponible avec tous les opérateurs courants :"
   ]
  },
  {
   "cell_type": "code",
   "execution_count": null,
   "id": "84324b69",
   "metadata": {
    "pycharm": {
     "name": "#%%\n"
    }
   },
   "outputs": [],
   "source": [
    "entier -= 4\n",
    "print('après décrément', entier)\n",
    "entier *= 2\n",
    "print('après doublement', entier)\n",
    "entier /= 2\n",
    "print('mis à moitié', entier)"
   ]
  },
  {
   "cell_type": "markdown",
   "id": "9305f6d3",
   "metadata": {
    "pycharm": {
     "name": "#%% md\n"
    }
   },
   "source": [
    "### Types non numériques"
   ]
  },
  {
   "cell_type": "markdown",
   "id": "ffb2284d",
   "metadata": {
    "pycharm": {
     "name": "#%% md\n"
    }
   },
   "source": [
    "En réalité cette construction est disponible sur tous les types qui supportent l'opérateur en question. Par exemple, les listes (que nous verrons bientôt) peuvent être additionnées entre elles :"
   ]
  },
  {
   "cell_type": "code",
   "execution_count": null,
   "id": "9d6d4d45",
   "metadata": {
    "pycharm": {
     "name": "#%%\n"
    }
   },
   "outputs": [],
   "source": [
    "liste = [0, 3, 5]\n",
    "print('liste', liste)\n",
    "\n",
    "liste += ['a', 'b']\n",
    "print('après ajout', liste)"
   ]
  },
  {
   "cell_type": "markdown",
   "id": "3c56db6d",
   "metadata": {
    "pycharm": {
     "name": "#%% md\n"
    }
   },
   "source": [
    "Beaucoup de types supportent l'opérateur `+`, qui est sans doute de loin celui qui est le plus utilisé avec cette construction."
   ]
  },
  {
   "cell_type": "markdown",
   "id": "c451b097",
   "metadata": {
    "pycharm": {
     "name": "#%% md\n"
    }
   },
   "source": [
    "### Opérateurs plus abscons"
   ]
  },
  {
   "cell_type": "markdown",
   "id": "f487e556",
   "metadata": {
    "pycharm": {
     "name": "#%% md\n"
    }
   },
   "source": [
    "Signalons enfin que l'on trouve aussi cette construction avec d'autres opérateurs moins fréquents, par exemple :"
   ]
  },
  {
   "cell_type": "code",
   "execution_count": null,
   "id": "d4f5115e",
   "metadata": {
    "pycharm": {
     "name": "#%%\n"
    }
   },
   "outputs": [],
   "source": [
    "entier = 2\n",
    "print('entier:', entier)\n",
    "entier **= 10\n",
    "print('à la puissance dix:', entier)\n",
    "entier %= 5\n",
    "print('modulo 5:', entier)"
   ]
  },
  {
   "cell_type": "markdown",
   "id": "bb4433ab",
   "metadata": {
    "pycharm": {
     "name": "#%% md\n"
    }
   },
   "source": [
    "Et pour ceux qui connaissent déjà un peu Python, on peut même le faire avec des opérateurs de décalage, que nous verrons très bientôt :"
   ]
  },
  {
   "cell_type": "code",
   "execution_count": null,
   "id": "17969ee3",
   "metadata": {
    "pycharm": {
     "name": "#%%\n"
    }
   },
   "outputs": [],
   "source": [
    "entier <<= 2\n",
    "print('double décalage gauche:', entier)"
   ]
  }
 ],
 "metadata": {
  "jupytext": {
   "cell_metadata_filter": "all, -hidden, -heading_collapsed, -run_control, -trusted",
   "notebook_metadata_filter": "all, -jupytext.text_representation.jupytext_version, -jupytext.text_representation.format_version, -language_info.version, -language_info.codemirror_mode.version, -language_info.codemirror_mode, -language_info.file_extension, -language_info.mimetype, -toc",
   "text_representation": {
    "extension": ".md",
    "format_name": "myst"
   }
  },
  "kernelspec": {
   "display_name": "Python 3 (ipykernel)",
   "language": "python",
   "name": "python3"
  },
  "language_info": {
   "name": "python",
   "nbconvert_exporter": "python",
   "pygments_lexer": "ipython3"
  },
  "notebookname": "+= et autres",
  "version": "3.0"
 },
 "nbformat": 4,
 "nbformat_minor": 5
}