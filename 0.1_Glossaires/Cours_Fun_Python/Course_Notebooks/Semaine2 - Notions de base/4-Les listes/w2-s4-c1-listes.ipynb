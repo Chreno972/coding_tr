{
 "cells": [
  {
   "cell_type": "markdown",
   "id": "55aecadb",
   "metadata": {},
   "source": [
    "<div class=\"licence\">\n",
    "<span>Licence CC BY-NC-ND</span>\n",
    "<span>Thierry Parmentelat &amp; Arnaud Legout</span>\n",
    "<span><img src=\"media/both-logos-small-alpha.png\" /></span>\n",
    "</div>"
   ]
  },
  {
   "cell_type": "markdown",
   "id": "0b3deb27",
   "metadata": {},
   "source": [
    "# Méthodes spécifiques aux listes"
   ]
  },
  {
   "cell_type": "markdown",
   "id": "093e25f1",
   "metadata": {},
   "source": [
    "## Complément - niveau basique"
   ]
  },
  {
   "cell_type": "markdown",
   "id": "7bbbfaca",
   "metadata": {},
   "source": [
    "Voici quelques unes des méthodes disponibles sur le type `list`."
   ]
  },
  {
   "cell_type": "markdown",
   "id": "45450e46",
   "metadata": {},
   "source": [
    "### Trouver l'information"
   ]
  },
  {
   "cell_type": "markdown",
   "id": "ff8aa23e",
   "metadata": {},
   "source": [
    "Pour commencer, rappelons comment retrouver la liste des méthodes définies sur le type `list` :"
   ]
  },
  {
   "cell_type": "code",
   "execution_count": null,
   "id": "830e4174",
   "metadata": {
    "latex:skip-eval": true
   },
   "outputs": [],
   "source": [
    "help(list)"
   ]
  },
  {
   "cell_type": "markdown",
   "id": "9d3d8939",
   "metadata": {},
   "source": [
    "Ignorez les méthodes dont le nom commence et termine par `__` (nous parlerons de ceci en semaine 6),  vous trouvez alors les méthodes utiles listées entre `append` et `sort`.\n",
    "\n",
    "Certaines de ces méthodes ont été vues dans la vidéo sur les séquences, c'est le cas notamment de `count` et `index`."
   ]
  },
  {
   "cell_type": "markdown",
   "id": "915308f4",
   "metadata": {},
   "source": [
    "Nous allons à présent décrire les autres, partiellement et brièvement. Un autre complément décrit la méthode `sort`. Reportez-vous au lien donné en fin de notebook pour obtenir une information plus complète."
   ]
  },
  {
   "cell_type": "markdown",
   "id": "563de7fd",
   "metadata": {},
   "source": [
    "Donnons-nous pour commencer une liste témoin :"
   ]
  },
  {
   "cell_type": "code",
   "execution_count": null,
   "id": "3ea99653",
   "metadata": {},
   "outputs": [],
   "source": [
    "liste = [0, 1, 2, 3]\n",
    "print('liste', liste)"
   ]
  },
  {
   "cell_type": "markdown",
   "id": "e42dabb1",
   "metadata": {},
   "source": [
    "**Avertissements** :\n",
    "\n",
    "* soyez bien attentifs au nombre de fois où vous exécutez les cellules de ce notebook ;\n",
    "* par exemple une liste renversée deux fois peut donner l'impression que `reverse` ne marche pas ;\n",
    "* n'hésitez pas à utiliser le menu *Cell -> Run All* pour réexécuter en une seule fois le notebook entier."
   ]
  },
  {
   "cell_type": "markdown",
   "id": "08db89b2",
   "metadata": {},
   "source": [
    "### `append`"
   ]
  },
  {
   "cell_type": "markdown",
   "id": "a84ce303",
   "metadata": {},
   "source": [
    "La méthode `append` permet d'ajouter **un élément** à la fin d'une liste :"
   ]
  },
  {
   "cell_type": "code",
   "execution_count": null,
   "id": "b89e8bc6",
   "metadata": {},
   "outputs": [],
   "source": [
    "liste.append('ap')\n",
    "print('liste', liste)"
   ]
  },
  {
   "cell_type": "markdown",
   "id": "94144d12",
   "metadata": {},
   "source": [
    "### `extend`"
   ]
  },
  {
   "cell_type": "markdown",
   "id": "7f5d5d94",
   "metadata": {},
   "source": [
    "La méthode `extend` réalise la même opération, mais avec **tous les éléments** de la liste qu'on lui passe en argument :"
   ]
  },
  {
   "cell_type": "code",
   "execution_count": null,
   "id": "304f73f3",
   "metadata": {},
   "outputs": [],
   "source": [
    "liste2 = ['ex1', 'ex2']\n",
    "liste.extend(liste2)\n",
    "print('liste', liste)"
   ]
  },
  {
   "cell_type": "markdown",
   "id": "e93df9bc",
   "metadata": {},
   "source": [
    "### `append` *vs* `+`"
   ]
  },
  {
   "cell_type": "markdown",
   "id": "02cc4f16",
   "metadata": {},
   "source": [
    "Ces deux méthodes `append` et `extend` sont donc assez voisines ; avant de voir d'autres méthodes de `list`, prenons un peu le temps de comparer leur comportement avec l'addition `+` de liste. L'élément clé ici, on l'a déjà vu dans la vidéo, est que la liste est un objet **mutable**. `append` et `extend` **modifient** la liste sur laquelle elles travaillent, alors que l'addition **crée un nouvel objet**."
   ]
  },
  {
   "cell_type": "code",
   "execution_count": null,
   "id": "3d6d373b",
   "metadata": {},
   "outputs": [],
   "source": [
    "# pour créer une liste avec les n premiers entiers, on utilise\n",
    "# la fonction built-in range(), que l'on convertit en liste\n",
    "# on aura l'occasion d'y revenir\n",
    "a1 = list(range(3))\n",
    "print(a1)"
   ]
  },
  {
   "cell_type": "code",
   "execution_count": null,
   "id": "f0651588",
   "metadata": {},
   "outputs": [],
   "source": [
    "a2 = list(range(10, 13))\n",
    "print(a2)"
   ]
  },
  {
   "cell_type": "code",
   "execution_count": null,
   "id": "8d69dd52",
   "metadata": {},
   "outputs": [],
   "source": [
    "# le fait d'utiliser + crée une nouvelle liste\n",
    "a3 = a1 + a2"
   ]
  },
  {
   "cell_type": "code",
   "execution_count": null,
   "id": "03019188",
   "metadata": {},
   "outputs": [],
   "source": [
    "# si bien que maintenant on a trois objets différents\n",
    "print('a1', a1)\n",
    "print('a2', a2)\n",
    "print('a3', a3)"
   ]
  },
  {
   "cell_type": "markdown",
   "id": "580a32c5",
   "metadata": {},
   "source": [
    "Comme on le voit, après une addition, les deux termes de l'addition sont inchangés. Pour bien comprendre, voyons exactement le même scénario sous pythontutor :"
   ]
  },
  {
   "cell_type": "code",
   "execution_count": null,
   "id": "eab8ce01",
   "metadata": {},
   "outputs": [],
   "source": [
    "%load_ext ipythontutor"
   ]
  },
  {
   "cell_type": "markdown",
   "id": "7ffe9379",
   "metadata": {},
   "source": [
    "**Note** : une fois que vous avez évalué la cellule avec `%%ipythontutor`, vous devez cliquer sur le bouton `Next` pour voir pas à pas le comportement du programme."
   ]
  },
  {
   "cell_type": "code",
   "execution_count": null,
   "id": "e8b32508",
   "metadata": {},
   "outputs": [],
   "source": [
    "%%ipythontutor height=230 ratio=0.7\n",
    "a1 = list(range(3))\n",
    "a2 = list(range(10, 13))\n",
    "a3 = a1 + a2"
   ]
  },
  {
   "cell_type": "markdown",
   "id": "68e737ab",
   "metadata": {},
   "source": [
    "Alors que si on avait utilisé `extend`, on aurait obtenu ceci :"
   ]
  },
  {
   "cell_type": "code",
   "execution_count": null,
   "id": "655a4244",
   "metadata": {},
   "outputs": [],
   "source": [
    "%%ipythontutor height=200 ratio=0.75\n",
    "e1 = list(range(3))\n",
    "e2 = list(range(10, 13))\n",
    "e3 = e1.extend(e2)"
   ]
  },
  {
   "cell_type": "markdown",
   "id": "3a263610",
   "metadata": {},
   "source": [
    "Ici on tire profit du fait que la liste est un objet mutable : `extend` **modifie** l'objet sur lequel on l'appelle (ici `e1`). Dans ce scénario on ne crée en tout que deux objets, et du coup il est inutile pour extend de renvoyer quoi que ce soit, et c'est pourquoi `e3` ici vaut None."
   ]
  },
  {
   "cell_type": "markdown",
   "id": "8f3f0bcd",
   "metadata": {},
   "source": [
    "C'est pour cette raison que :\n",
    "\n",
    "* l'addition est disponible sur tous les types séquences - on peut toujours réaliser l'addition puisqu'on crée un nouvel objet pour stocker le résultat de l'addition ;\n",
    "* mais `append` et `extend` ne sont par exemple **pas disponibles** sur les chaînes de caractères, qui sont **immuables** - si `e1` était une chaîne, on ne pourrait pas la modifier pour lui ajouter des éléments."
   ]
  },
  {
   "cell_type": "markdown",
   "id": "cbf217cf",
   "metadata": {},
   "source": [
    "### Digression : les *magic* de IPython"
   ]
  },
  {
   "cell_type": "markdown",
   "id": "62cb246f",
   "metadata": {},
   "source": [
    "Arrêtons-nous une seconde pour commenter l'usage qu'on vient de faire de `%load_ext` et `%%ipythontutor`.\n",
    "\n",
    "Ces commandes, qui commencent par un signe pourcent `%`, sont des commandes magiques (*magic*) de IPython; du coup elles ne sont **disponibles que** dans IPython ou un notebook.\n",
    "\n",
    "Et je signale pour finir, pour les curieux, que \n",
    "* vous pouvez trouver [une liste de ces commandes ici](https://ipython.readthedocs.io/en/stable/interactive/magics.html\n",
    ")\n",
    "* et qu'une commande peut exister sous deux formes : avec un seul pourcent, la commande s'applique à la ligne, alors qu'avec deux pourcent cela concerne toute la cellule."
   ]
  },
  {
   "cell_type": "markdown",
   "id": "e5857627",
   "metadata": {},
   "source": [
    "Ainsi notamment la commande magique `%timeit`, qui permet de faire des benchmarks et comparer finement des temps d'exécution, s'utilise comme ceci"
   ]
  },
  {
   "cell_type": "code",
   "execution_count": null,
   "id": "bc75a31c",
   "metadata": {},
   "outputs": [],
   "source": [
    "# avec un seul pourcent une commande magique concerne une seule ligne\n",
    "# un peu de patience, c'est un petit peu long à exécuter\n",
    "\n",
    "%timeit L1 = list(range(1000))\n",
    "\n",
    "L2 = list(range(1000))"
   ]
  },
  {
   "cell_type": "code",
   "execution_count": null,
   "id": "4b3e96bf",
   "metadata": {},
   "outputs": [],
   "source": [
    "%%timeit\n",
    "# avec deux pourcent, cela concerne toute la cellule\n",
    "L1 = list(range(1000))\n",
    "L2 = list(range(1000))"
   ]
  },
  {
   "cell_type": "code",
   "execution_count": null,
   "id": "d1a29b49",
   "metadata": {
    "tags": [
     "raises-exception"
    ]
   },
   "outputs": [],
   "source": [
    "# et comme vous le voyez ici il faut dans ce cas-là \n",
    "# la mettre en première ligne de la cellule\n",
    "# il y a une certaine logique à cela, mais bon\n",
    "%%timeit\n",
    "L1 = list(range(1000))\n",
    "L2 = list(range(1000))"
   ]
  },
  {
   "cell_type": "markdown",
   "id": "afcd5393",
   "metadata": {},
   "source": [
    "Vous remarquez surtout que `%timeit` exécute l'instruction un grand nombre de fois, c'est pour pouvoir faire une moyenne qui soit pertinente (on peut modifier ce nombre en passant des options à `timeit`, mais ne nous égarons pas…)"
   ]
  },
  {
   "cell_type": "markdown",
   "id": "e77663b9",
   "metadata": {},
   "source": [
    "### `insert`"
   ]
  },
  {
   "cell_type": "markdown",
   "id": "b8a64ebf",
   "metadata": {},
   "source": [
    "Mais reprenons notre inventaire des méthodes de `list`, et pour cela rappelons nous le contenu de la variable `liste` :"
   ]
  },
  {
   "cell_type": "code",
   "execution_count": null,
   "id": "e9fbf27e",
   "metadata": {},
   "outputs": [],
   "source": [
    "liste"
   ]
  },
  {
   "cell_type": "markdown",
   "id": "2db20198",
   "metadata": {},
   "source": [
    "La méthode `insert` permet, comme le nom le suggère, d'insérer un élément à une certaine position ; comme toujours les indices commencent à zéro et donc :"
   ]
  },
  {
   "cell_type": "code",
   "execution_count": null,
   "id": "7fd435f2",
   "metadata": {},
   "outputs": [],
   "source": [
    "# insérer à l'index 2\n",
    "liste.insert(2, '1 bis')\n",
    "print('liste', liste)"
   ]
  },
  {
   "cell_type": "markdown",
   "id": "7137e893",
   "metadata": {},
   "source": [
    "On peut remarquer qu'un résultat analogue peut être obtenu avec une affectation de slice ; par exemple pour insérer au rang 5 (i.e. avant `ap`), on pourrait aussi bien faire :"
   ]
  },
  {
   "cell_type": "code",
   "execution_count": null,
   "id": "a2a4d440",
   "metadata": {},
   "outputs": [],
   "source": [
    "liste[5:5] = ['3 bis']\n",
    "print('liste', liste)"
   ]
  },
  {
   "cell_type": "markdown",
   "id": "fc8716bc",
   "metadata": {},
   "source": [
    "### `remove`"
   ]
  },
  {
   "cell_type": "markdown",
   "id": "2b8a4228",
   "metadata": {},
   "source": [
    "La méthode `remove` détruit la **première occurrence** d'un objet dans la liste :"
   ]
  },
  {
   "cell_type": "code",
   "execution_count": null,
   "id": "0a33db5a",
   "metadata": {},
   "outputs": [],
   "source": [
    "liste.remove(3)\n",
    "print('liste', liste)"
   ]
  },
  {
   "cell_type": "markdown",
   "id": "04c5fe0e",
   "metadata": {},
   "source": [
    "### `pop`"
   ]
  },
  {
   "cell_type": "markdown",
   "id": "4b4fec79",
   "metadata": {},
   "source": [
    "La méthode `pop` prend en argument un indice ; elle permet d'extraire l'élément à cet indice. En un seul appel on obtient la valeur de l'élément et on l'enlève de la liste :"
   ]
  },
  {
   "cell_type": "code",
   "execution_count": null,
   "id": "3e9b0778",
   "metadata": {},
   "outputs": [],
   "source": [
    "popped = liste.pop(0)\n",
    "print('popped', popped, 'liste', liste)"
   ]
  },
  {
   "cell_type": "markdown",
   "id": "1e19a4fb",
   "metadata": {},
   "source": [
    "Si l'indice n'est pas précisé, c'est le dernier élément de la liste qui est visé :"
   ]
  },
  {
   "cell_type": "code",
   "execution_count": null,
   "id": "3a59ab1a",
   "metadata": {},
   "outputs": [],
   "source": [
    "popped = liste.pop()\n",
    "print('popped', popped, 'liste', liste)"
   ]
  },
  {
   "cell_type": "markdown",
   "id": "83798861",
   "metadata": {},
   "source": [
    "### `reverse`"
   ]
  },
  {
   "cell_type": "markdown",
   "id": "f888b348",
   "metadata": {},
   "source": [
    "Enfin `reverse` renverse la liste, le premier élément devient le dernier :"
   ]
  },
  {
   "cell_type": "code",
   "execution_count": null,
   "id": "baa3b907",
   "metadata": {},
   "outputs": [],
   "source": [
    "liste.reverse()\n",
    "print('liste', liste)"
   ]
  },
  {
   "cell_type": "markdown",
   "id": "7b817852",
   "metadata": {},
   "source": [
    "On peut remarquer ici que le résultat se rapproche de ce qu'on peut obtenir avec une opération de slicing comme ceci :"
   ]
  },
  {
   "cell_type": "code",
   "execution_count": null,
   "id": "3943bde7",
   "metadata": {},
   "outputs": [],
   "source": [
    "liste2 = liste[::-1]\n",
    "print('liste2', liste2)"
   ]
  },
  {
   "cell_type": "markdown",
   "id": "e2ff6b07",
   "metadata": {},
   "source": [
    "**À la différence toutefois** qu'avec le slicing c'est une copie de la liste initiale qui est retournée, la liste de départ quant à elle n'est pas modifiée."
   ]
  },
  {
   "cell_type": "markdown",
   "id": "b52468a7",
   "metadata": {},
   "source": [
    "### Pour en savoir plus"
   ]
  },
  {
   "cell_type": "markdown",
   "id": "37aa24fc",
   "metadata": {},
   "source": [
    "<https://docs.python.org/3/tutorial/datastructures.html#more-on-lists>"
   ]
  },
  {
   "cell_type": "markdown",
   "id": "62246da0",
   "metadata": {},
   "source": [
    "### Note spécifique aux notebooks"
   ]
  },
  {
   "cell_type": "markdown",
   "id": "89798fc2",
   "metadata": {},
   "source": [
    "#### `help` avec `?`"
   ]
  },
  {
   "cell_type": "markdown",
   "id": "81fe85f6",
   "metadata": {},
   "source": [
    "Je vous signale en passant que dans un notebook vous pouvez obtenir de l'aide avec un point d'interrogation `?` inséré avant ou après un symbole. Par exemple pour obtenir des précisions sur la méthode `list.pop`, on peut faire soit :"
   ]
  },
  {
   "cell_type": "code",
   "execution_count": null,
   "id": "11f9971c",
   "metadata": {},
   "outputs": [],
   "source": [
    "# fonctionne dans tous les environnements Python\n",
    "help(list.pop)"
   ]
  },
  {
   "cell_type": "code",
   "execution_count": null,
   "id": "c7bc495f",
   "metadata": {},
   "outputs": [],
   "source": [
    "# spécifique aux notebooks\n",
    "# l'affichage obtenu est légèrement différent\n",
    "# tapez la touche 'Esc' - ou cliquez la petite croix\n",
    "# pour faire disparaitre le dialogue qui apparaît en bas\n",
    "list.pop?"
   ]
  },
  {
   "cell_type": "markdown",
   "id": "80220668",
   "metadata": {},
   "source": [
    "#### Complétion avec `Tab`"
   ]
  },
  {
   "cell_type": "markdown",
   "id": "2f634129",
   "metadata": {},
   "source": [
    "Dans un notebook vous avez aussi la complétion ; si vous tapez, dans une cellule de code, le début d'un mot connu dans l'environnement, vous voyez apparaître un dialogue avec les noms connus qui commencent par ce mot ici `li`; utilisez les flèches pour choisir, et 'Return' pour sélectionner."
   ]
  },
  {
   "cell_type": "code",
   "execution_count": null,
   "id": "7c721f08",
   "metadata": {
    "latex:skip-eval": true
   },
   "outputs": [],
   "source": [
    "# placez votre curseur à la fin de la ligne après 'li'\n",
    "# et appuyez sur la touche 'Tab'\n",
    "li"
   ]
  }
 ],
 "metadata": {
  "ipub": {
   "sphinx": {
    "toggle_input": true,
    "toggle_input_all": true,
    "toggle_output": true,
    "toggle_output_all": true
   }
  },
  "jupytext": {
   "cell_metadata_filter": "all, -hidden, -heading_collapsed, -run_control, -trusted",
   "notebook_metadata_filter": "all, -jupytext.text_representation.jupytext_version, -jupytext.text_representation.format_version, -language_info.version, -language_info.codemirror_mode.version, -language_info.codemirror_mode, -language_info.file_extension, -language_info.mimetype, -toc",
   "text_representation": {
    "extension": ".md",
    "format_name": "myst"
   }
  },
  "kernelspec": {
   "display_name": "Python 3 (ipykernel)",
   "language": "python",
   "name": "python3"
  },
  "language_info": {
   "name": "python",
   "nbconvert_exporter": "python",
   "pygments_lexer": "ipython3"
  },
  "livereveal": {
   "auto_select": "code",
   "auto_select_fragment": true,
   "autolaunch": false,
   "backimage": "media/nologo.png",
   "height": "100%",
   "slideNumber": "c",
   "start_slideshow_at": "selected",
   "theme": "simple",
   "transition": "fade",
   "width": "100%"
  },
  "notebookname": "Méthodes de listes",
  "version": "3.0"
 },
 "nbformat": 4,
 "nbformat_minor": 5
}
