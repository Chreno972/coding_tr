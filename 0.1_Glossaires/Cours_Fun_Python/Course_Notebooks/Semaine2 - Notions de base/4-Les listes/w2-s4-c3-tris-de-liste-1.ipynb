{
 "cells": [
  {
   "cell_type": "markdown",
   "id": "4b3ac161",
   "metadata": {},
   "source": [
    "<div class=\"licence\">\n",
    "<span>Licence CC BY-NC-ND</span>\n",
    "<span>Thierry Parmentelat &amp; Arnaud Legout</span>\n",
    "<span><img src=\"media/both-logos-small-alpha.png\" /></span>\n",
    "</div>"
   ]
  },
  {
   "cell_type": "markdown",
   "id": "52036e7c",
   "metadata": {},
   "source": [
    "# Tris de listes"
   ]
  },
  {
   "cell_type": "markdown",
   "id": "66d9ae10",
   "metadata": {},
   "source": [
    "## Complément - niveau basique"
   ]
  },
  {
   "cell_type": "markdown",
   "id": "d43b9e60",
   "metadata": {},
   "source": [
    "Python fournit une méthode standard pour trier une liste, qui s'appelle, sans grande surprise, `sort`."
   ]
  },
  {
   "cell_type": "markdown",
   "id": "5ea83798",
   "metadata": {},
   "source": [
    "### La méthode `sort`"
   ]
  },
  {
   "cell_type": "markdown",
   "id": "b75e71bd",
   "metadata": {},
   "source": [
    "Voyons comment se comporte `sort` sur un exemple simple :"
   ]
  },
  {
   "cell_type": "code",
   "execution_count": null,
   "id": "1e15b534",
   "metadata": {},
   "outputs": [],
   "source": [
    "liste = [8, 7, 4, 3, 2, 9, 1, 5, 6]\n",
    "print('avant tri', liste)\n",
    "liste.sort()\n",
    "print('apres tri', liste)"
   ]
  },
  {
   "cell_type": "markdown",
   "id": "7e881fa8",
   "metadata": {},
   "source": [
    "On retrouve ici, avec l'instruction `liste.sort()` un cas d'appel de méthode (ici `sort`) sur un objet (ici `liste`), comme on l'avait vu dans la vidéo."
   ]
  },
  {
   "cell_type": "markdown",
   "id": "1d7c4fcb",
   "metadata": {},
   "source": [
    "La première chose à remarquer est que la liste d'entrée a été modifiée, on dit \"en place\", ou encore \"par effet de bord\". Voyons cela sous pythontutor :"
   ]
  },
  {
   "cell_type": "code",
   "execution_count": null,
   "id": "1d639f4b",
   "metadata": {},
   "outputs": [],
   "source": [
    "%load_ext ipythontutor"
   ]
  },
  {
   "cell_type": "code",
   "execution_count": null,
   "id": "26a104dc",
   "metadata": {},
   "outputs": [],
   "source": [
    "%%ipythontutor height=200 ratio=0.8\n",
    "liste = [3, 2, 9, 1]\n",
    "liste.sort()"
   ]
  },
  {
   "cell_type": "markdown",
   "id": "6264f09e",
   "metadata": {},
   "source": [
    "On aurait pu imaginer que la liste d'entrée soit restée inchangée, et que la méthode de tri renvoie une copie triée de la liste, ce n'est pas le choix qui a été fait, cela permet d'économiser des allocations mémoire autant que possible et d'accélérer sensiblement le tri."
   ]
  },
  {
   "cell_type": "markdown",
   "id": "5c3f695c",
   "metadata": {},
   "source": [
    "### La fonction `sorted`"
   ]
  },
  {
   "cell_type": "markdown",
   "id": "c41342d1",
   "metadata": {},
   "source": [
    "Si vous avez besoin de faire le tri sur une copie de votre liste, la fonction `sorted` vous permet de le faire :"
   ]
  },
  {
   "cell_type": "code",
   "execution_count": null,
   "id": "438fe679",
   "metadata": {},
   "outputs": [],
   "source": [
    "%%ipythontutor height=200 ratio=0.8\n",
    "liste1 = [3, 2, 9, 1]\n",
    "liste2 = sorted(liste1)"
   ]
  },
  {
   "cell_type": "markdown",
   "id": "9646debe",
   "metadata": {},
   "source": [
    "### Tri décroissant"
   ]
  },
  {
   "cell_type": "markdown",
   "id": "a7785c72",
   "metadata": {},
   "source": [
    "Revenons à la méthode `sort` et aux tris *en place*. Par défaut la liste est triée par ordre croissant, si au contraire vous voulez l'ordre décroissant, faites comme ceci :"
   ]
  },
  {
   "cell_type": "code",
   "execution_count": null,
   "id": "791f48da",
   "metadata": {},
   "outputs": [],
   "source": [
    "liste = [8, 7, 4, 3, 2, 9, 1, 5, 6]\n",
    "print('avant tri', liste)\n",
    "liste.sort(reverse=True)\n",
    "print('apres tri décroissant', liste)"
   ]
  },
  {
   "cell_type": "markdown",
   "id": "20982951",
   "metadata": {},
   "source": [
    "Nous n'avons pas encore vu à quoi correspond cette formule `reverse=True` dans l'appel à la méthode - ceci sera approfondi dans le chapitre sur les appels de fonction - mais dans l'immédiat vous pouvez utiliser cette technique telle quelle."
   ]
  },
  {
   "cell_type": "markdown",
   "id": "568c0078",
   "metadata": {},
   "source": [
    "### Chaînes de caractères"
   ]
  },
  {
   "cell_type": "markdown",
   "id": "ffeb15d5",
   "metadata": {},
   "source": [
    "Cette technique fonctionne très bien sur tous les types numériques (enfin, à l'exception des complexes ; en guise d'exercice, pourquoi ?), ainsi que sur les chaînes de caractères :"
   ]
  },
  {
   "cell_type": "code",
   "execution_count": null,
   "id": "c68e818e",
   "metadata": {},
   "outputs": [],
   "source": [
    "liste = ['spam', 'egg', 'bacon', 'beef']\n",
    "liste.sort()\n",
    "print('après tri', liste)"
   ]
  },
  {
   "cell_type": "markdown",
   "id": "c3aad6d6",
   "metadata": {},
   "source": [
    "Comme on s'y attend, il s'agit cette fois d'un **tri lexicographique**, dérivé de l'ordre sur les caractères. Autrement dit, c'est l'ordre du dictionnaire. Il faut souligner toutefois, pour les personnes n'ayant jamais été exposées à l'informatique, que cet ordre, quoique déterministe, est arbitraire en dehors des lettres de l'alphabet."
   ]
  },
  {
   "cell_type": "markdown",
   "id": "18ace24f",
   "metadata": {},
   "source": [
    "Ainsi par exemple :"
   ]
  },
  {
   "cell_type": "code",
   "execution_count": null,
   "id": "ecc10243",
   "metadata": {},
   "outputs": [],
   "source": [
    "# deux caractères minuscules se comparent\n",
    "# comme on s'y attend\n",
    "'a' < 'z'"
   ]
  },
  {
   "cell_type": "markdown",
   "id": "0f2fcc8e",
   "metadata": {},
   "source": [
    "Bon, mais par contre :"
   ]
  },
  {
   "cell_type": "code",
   "execution_count": null,
   "id": "bcd228d2",
   "metadata": {},
   "outputs": [],
   "source": [
    "# si l'un est en minuscule et l'autre en majuscule,\n",
    "# ce n'est plus le cas\n",
    "'Z' < 'a'"
   ]
  },
  {
   "cell_type": "markdown",
   "id": "b0d3a790",
   "metadata": {},
   "source": [
    "Ce qui à son tour explique ceci :"
   ]
  },
  {
   "cell_type": "code",
   "execution_count": null,
   "id": "ffc679f5",
   "metadata": {},
   "outputs": [],
   "source": [
    "# la conséquence de 'Z' < 'a', c'est que\n",
    "liste = ['abc', 'Zoo']\n",
    "liste.sort()\n",
    "print(liste)"
   ]
  },
  {
   "cell_type": "markdown",
   "id": "9aee8544",
   "metadata": {},
   "source": [
    "Et lorsque les chaînes contiennent des espaces ou autres ponctuations, le résultat du tri peut paraître surprenant :"
   ]
  },
  {
   "cell_type": "code",
   "execution_count": null,
   "id": "d88305bc",
   "metadata": {},
   "outputs": [],
   "source": [
    "# attention ici notre premiere chaîne commence par une espace\n",
    "# et le caractère 'Espace' est plus petit\n",
    "# que tous les autres caractères imprimables\n",
    "liste = [' zoo', 'ane']\n",
    "liste.sort()\n",
    "print(liste)"
   ]
  },
  {
   "cell_type": "markdown",
   "id": "db834466",
   "metadata": {},
   "source": [
    "### À suivre"
   ]
  },
  {
   "cell_type": "markdown",
   "id": "0db6c4b9",
   "metadata": {},
   "source": [
    "Il est possible de définir soi-même le critère à utiliser pour trier une liste, et nous verrons cela bientôt, une fois que nous aurons introduit la notion de fonction."
   ]
  }
 ],
 "metadata": {
  "jupytext": {
   "cell_metadata_filter": "all, -hidden, -heading_collapsed, -run_control, -trusted",
   "notebook_metadata_filter": "all, -jupytext.text_representation.jupytext_version, -jupytext.text_representation.format_version, -language_info.version, -language_info.codemirror_mode.version, -language_info.codemirror_mode, -language_info.file_extension, -language_info.mimetype, -toc",
   "text_representation": {
    "extension": ".md",
    "format_name": "myst"
   }
  },
  "kernelspec": {
   "display_name": "Python 3 (ipykernel)",
   "language": "python",
   "name": "python3"
  },
  "language_info": {
   "name": "python",
   "nbconvert_exporter": "python",
   "pygments_lexer": "ipython3"
  },
  "notebookname": "Tris de listes (1)",
  "version": "3.0"
 },
 "nbformat": 4,
 "nbformat_minor": 5
}
