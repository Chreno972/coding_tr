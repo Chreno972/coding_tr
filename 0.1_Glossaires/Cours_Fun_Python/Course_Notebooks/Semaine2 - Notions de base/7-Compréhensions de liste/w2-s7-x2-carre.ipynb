{
 "cells": [
  {
   "cell_type": "markdown",
   "id": "79cd68f9",
   "metadata": {},
   "source": [
    "<div class=\"licence\">\n",
    "<span>Licence CC BY-NC-ND</span>\n",
    "<span>Thierry Parmentelat &amp; Arnaud Legout</span>\n",
    "<span><img src=\"media/both-logos-small-alpha.png\" /></span>\n",
    "</div>"
   ]
  },
  {
   "cell_type": "markdown",
   "id": "12f06d91",
   "metadata": {},
   "source": [
    "# Compréhensions (2)"
   ]
  },
  {
   "cell_type": "markdown",
   "id": "18cd13b7",
   "metadata": {},
   "source": [
    "## Exercice - niveau intermédiaire"
   ]
  },
  {
   "cell_type": "markdown",
   "id": "29a4488e",
   "metadata": {},
   "source": [
    "### Mise au carré\n",
    "\n",
    "On vous demande à présent d'écrire une fonction dans le même esprit que la fonction polynomiale du notebook précédent.\n",
    "Cette fois, chaque ligne contient, séparés par des points-virgules, une liste d'entiers, et on veut obtenir une nouvelle chaîne avec les carrés de ces entiers, séparés par des deux-points.\n",
    "\n",
    "À nouveau les lignes peuvent être remplies de manière approximative, avec des espaces, des tabulations, ou même des points-virgules en trop, que ce soit au début, à la fin, ou au milieu d'une ligne."
   ]
  },
  {
   "cell_type": "code",
   "execution_count": null,
   "id": "ac5fe5d9",
   "metadata": {},
   "outputs": [],
   "source": [
    "# exemples\n",
    "from corrections.exo_carre import exo_carre\n",
    "exo_carre.example()"
   ]
  },
  {
   "cell_type": "code",
   "execution_count": null,
   "id": "210ea390",
   "metadata": {},
   "outputs": [],
   "source": [
    "# écrivez votre code ici\n",
    "def carre(ligne):\n",
    "    \"<votre_code>\""
   ]
  },
  {
   "cell_type": "code",
   "execution_count": null,
   "id": "986d6243",
   "metadata": {},
   "outputs": [],
   "source": [
    "# pour corriger\n",
    "exo_carre.correction(carre)"
   ]
  }
 ],
 "metadata": {
  "jupytext": {
   "cell_metadata_filter": "all, -hidden, -heading_collapsed, -run_control, -trusted",
   "notebook_metadata_filter": "all, -jupytext.text_representation.jupytext_version, -jupytext.text_representation.format_version, -language_info.version, -language_info.codemirror_mode.version, -language_info.codemirror_mode, -language_info.file_extension, -language_info.mimetype, -toc",
   "text_representation": {
    "extension": ".md",
    "format_name": "myst"
   }
  },
  "kernelspec": {
   "display_name": "Python 3 (ipykernel)",
   "language": "python",
   "name": "python3"
  },
  "language_info": {
   "name": "python",
   "nbconvert_exporter": "python",
   "pygments_lexer": "ipython3"
  },
  "notebookname": "exercice: compréhensions(2)",
  "version": "3.0"
 },
 "nbformat": 4,
 "nbformat_minor": 5
}
