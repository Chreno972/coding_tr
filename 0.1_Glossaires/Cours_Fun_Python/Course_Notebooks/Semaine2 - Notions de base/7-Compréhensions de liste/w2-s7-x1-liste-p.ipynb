{
 "cells": [
  {
   "cell_type": "markdown",
   "id": "6e0e5bb4",
   "metadata": {},
   "source": [
    "<div class=\"licence\">\n",
    "<span>Licence CC BY-NC-ND</span>\n",
    "<span>Thierry Parmentelat &amp; Arnaud Legout</span>\n",
    "<span><img src=\"media/both-logos-small-alpha.png\" /></span>\n",
    "</div>"
   ]
  },
  {
   "cell_type": "markdown",
   "id": "fa8cc8b0",
   "metadata": {},
   "source": [
    "# Compréhensions (1)"
   ]
  },
  {
   "cell_type": "markdown",
   "id": "ff761b95",
   "metadata": {},
   "source": [
    "## Exercice - niveau basique"
   ]
  },
  {
   "cell_type": "markdown",
   "id": "8b196309",
   "metadata": {},
   "source": [
    "### Liste des valeurs d'une fonction\n",
    "\n",
    "On se donne une fonction polynomiale :\n",
    "\n",
    "$P(x) = 2x^2 - 3x - 2$"
   ]
  },
  {
   "cell_type": "markdown",
   "id": "8fb16cba",
   "metadata": {},
   "source": [
    "On vous demande d'écrire une fonction `liste_P` qui prend en argument une liste de nombres réels $x$ et qui retourne la liste des valeurs $P(x)$."
   ]
  },
  {
   "cell_type": "code",
   "execution_count": null,
   "id": "e29b27f0",
   "metadata": {},
   "outputs": [],
   "source": [
    "# voici un exemple de ce qui est attendu\n",
    "from corrections.exo_liste_p import exo_liste_P\n",
    "exo_liste_P.example()"
   ]
  },
  {
   "cell_type": "markdown",
   "id": "789e5165",
   "metadata": {},
   "source": [
    "Écrivez votre code dans la cellule suivante (*On vous suggère d'écrire une fonction `P` qui implémente le polynôme mais ça n'est pas strictement indispensable, seul le résultat de `liste_P` compte*) :"
   ]
  },
  {
   "cell_type": "code",
   "execution_count": null,
   "id": "4f92597e",
   "metadata": {
    "latex:hidden-code-instead": "liste_P = exo_liste_P.solution",
    "latex:hidden-silent": true
   },
   "outputs": [],
   "source": [
    "def P(x):\n",
    "    \"<votre code>\"\n",
    "\n",
    "def liste_P(liste_x):\n",
    "    \"votre code\""
   ]
  },
  {
   "cell_type": "markdown",
   "id": "4e8fe403",
   "metadata": {},
   "source": [
    "Et vous pouvez le vérifier en évaluant cette cellule :"
   ]
  },
  {
   "cell_type": "code",
   "execution_count": null,
   "id": "de5776f2",
   "metadata": {
    "latex:skip-eval": true
   },
   "outputs": [],
   "source": [
    "# pour vérifier votre code\n",
    "exo_liste_P.correction(liste_P)"
   ]
  },
  {
   "cell_type": "markdown",
   "id": "42e7ad5e",
   "metadata": {},
   "source": [
    "******"
   ]
  },
  {
   "cell_type": "markdown",
   "id": "57e6c607",
   "metadata": {},
   "source": [
    "## Récréation"
   ]
  },
  {
   "cell_type": "markdown",
   "id": "403fdd1b",
   "metadata": {},
   "source": [
    "Si vous avez correctement implémenté la fonction `liste_P` telle que demandé dans le premier exercice, vous pouvez visualiser le polynôme `P` en utilisant `matplotlib` avec le code suivant :"
   ]
  },
  {
   "cell_type": "code",
   "execution_count": null,
   "id": "be4274bf",
   "metadata": {},
   "outputs": [],
   "source": [
    "# on importe les bibliothèques\n",
    "import numpy as np\n",
    "import matplotlib.pyplot as plt"
   ]
  },
  {
   "cell_type": "code",
   "execution_count": null,
   "id": "a5d2dfcd",
   "metadata": {},
   "outputs": [],
   "source": [
    "# un échantillon des X entre -10 et 10\n",
    "X = np.linspace(-10, 10)\n",
    "\n",
    "# et les Y correspondants\n",
    "Y = liste_P(X)"
   ]
  },
  {
   "cell_type": "code",
   "execution_count": null,
   "id": "7134c79a",
   "metadata": {},
   "outputs": [],
   "source": [
    "# on n'a plus qu'à dessiner\n",
    "plt.plot(X, Y)\n",
    "plt.show()"
   ]
  },
  {
   "cell_type": "code",
   "execution_count": null,
   "id": "849059b9",
   "metadata": {},
   "outputs": [],
   "source": []
  }
 ],
 "metadata": {
  "jupytext": {
   "cell_metadata_filter": "all, -hidden, -heading_collapsed, -run_control, -trusted",
   "notebook_metadata_filter": "all, -jupytext.text_representation.jupytext_version, -jupytext.text_representation.format_version, -language_info.version, -language_info.codemirror_mode.version, -language_info.codemirror_mode, -language_info.file_extension, -language_info.mimetype, -toc",
   "text_representation": {
    "extension": ".md",
    "format_name": "myst"
   }
  },
  "kernelspec": {
   "display_name": "Python 3 (ipykernel)",
   "language": "python",
   "name": "python3"
  },
  "language_info": {
   "name": "python",
   "nbconvert_exporter": "python",
   "pygments_lexer": "ipython3"
  },
  "notebookname": "exercice: compréhensions(1)",
  "version": "3.0"
 },
 "nbformat": 4,
 "nbformat_minor": 5
}
