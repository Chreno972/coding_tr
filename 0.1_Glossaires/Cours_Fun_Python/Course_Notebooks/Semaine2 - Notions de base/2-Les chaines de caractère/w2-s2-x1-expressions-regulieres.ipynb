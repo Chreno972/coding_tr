{
 "cells": [
  {
   "cell_type": "markdown",
   "source": [
    "# Expressions régulières"
   ],
   "metadata": {
    "collapsed": false,
    "pycharm": {
     "name": "#%% md\n"
    }
   }
  },
  {
   "cell_type": "markdown",
   "id": "34a801f0",
   "metadata": {
    "pycharm": {
     "name": "#%% md\n"
    }
   },
   "source": [
    "Nous vous proposons dans ce notebook quelques exercices sur les expressions régulières. Faisons quelques remarques avant de commencer :\n",
    "\n",
    "* nous nous concentrons sur l'écriture de l'expression régulière en elle-même, et pas sur l'utilisation de la bibliothèque ;\n",
    "* en particulier, tous les exercices font appel à `re.match` entre votre *regexp* et une liste de chaînes d'entrée qui servent de jeux de test."
   ]
  },
  {
   "cell_type": "markdown",
   "id": "ca478b97",
   "metadata": {
    "pycharm": {
     "name": "#%% md\n"
    }
   },
   "source": [
    "##### Liens utiles"
   ]
  },
  {
   "cell_type": "markdown",
   "id": "bfe44218",
   "metadata": {
    "pycharm": {
     "name": "#%% md\n"
    }
   },
   "source": [
    "Pour travailler sur ces exercices, il pourra être profitable d'avoir sous la main :\n",
    "\n",
    "* la [documentation officielle](https://docs.python.org/3/library/re.html#regular-expression-syntax) ;\n",
    "* et <https://regex101.com/> (par exemple) qui permet de mettre au point de manière interactive, et donc d'avoir un retour presque immédiat, pour accélérer la mise au point."
   ]
  },
  {
   "cell_type": "markdown",
   "id": "51ff20fd",
   "metadata": {
    "pycharm": {
     "name": "#%% md\n"
    }
   },
   "source": [
    "## Exercice - niveau intermédiaire (1)"
   ]
  },
  {
   "cell_type": "markdown",
   "id": "e8f2f6a9",
   "metadata": {
    "pycharm": {
     "name": "#%% md\n"
    }
   },
   "source": [
    "##### Identificateurs Python\n",
    "\n",
    "On vous demande d'écrire une expression régulière qui décrit les noms de variable en Python. Pour cet exercice on se concentre sur les caractères ASCII. On exclut donc les noms de variables qui pourraient contenir des caractères exotiques comme les caractères accentués ou autres lettres grecques.\n",
    "\n",
    "Il s'agit donc de reconnaître toutes les chaînes qui commencent par une lettre ou un `_`, suivi de lettres, chiffres ou `_`."
   ]
  },
  {
   "cell_type": "code",
   "execution_count": null,
   "id": "303fbd2e",
   "metadata": {
    "pycharm": {
     "name": "#%%\n"
    }
   },
   "outputs": [],
   "source": [
    "# quelques exemples de résultat attendus\n",
    "from corrections.regexp_pythonid import exo_pythonid\n",
    "exo_pythonid.example()"
   ]
  },
  {
   "cell_type": "code",
   "execution_count": null,
   "id": "90ba13f8",
   "metadata": {
    "pycharm": {
     "name": "#%%\n"
    }
   },
   "outputs": [],
   "source": [
    "# à vous de jouer: écrivez ici\n",
    "# sous forme de chaîne votre expression régulière\n",
    "\n",
    "regexp_pythonid = r\"votre_regexp\""
   ]
  },
  {
   "cell_type": "code",
   "execution_count": null,
   "id": "16af8070",
   "metadata": {
    "pycharm": {
     "name": "#%%\n"
    }
   },
   "outputs": [],
   "source": [
    "# évaluez cette cellule pour valider votre code\n",
    "exo_pythonid.correction(regexp_pythonid)"
   ]
  },
  {
   "cell_type": "markdown",
   "id": "1c4b6a73",
   "metadata": {
    "pycharm": {
     "name": "#%% md\n"
    }
   },
   "source": [
    "## Exercice - niveau intermédiaire (2)"
   ]
  },
  {
   "cell_type": "markdown",
   "id": "3e87526c",
   "metadata": {
    "pycharm": {
     "name": "#%% md\n"
    }
   },
   "source": [
    "##### Lignes avec nom et prénom\n",
    "\n",
    "On veut reconnaître dans un fichier toutes les lignes qui contiennent un nom et un prénom."
   ]
  },
  {
   "cell_type": "code",
   "execution_count": null,
   "id": "66de53ec",
   "metadata": {
    "pycharm": {
     "name": "#%%\n"
    }
   },
   "outputs": [],
   "source": [
    "from corrections.regexp_agenda import exo_agenda\n",
    "exo_agenda.example()"
   ]
  },
  {
   "cell_type": "markdown",
   "id": "dba5436a",
   "metadata": {
    "pycharm": {
     "name": "#%% md\n"
    }
   },
   "source": [
    "Plus précisément, on cherche les chaînes qui :\n",
    "\n",
    "* commencent par une suite - possiblement vide - de caractères alphanumériques (vous pouvez utiliser `\\w`) ou tiret haut (`-`) qui constitue le prénom ;\n",
    "* contiennent ensuite comme séparateur le caractère 'deux-points' `:` ;\n",
    "* contiennent ensuite une suite - cette fois jamais vide - de caractères alphanumériques ou tiret haut, qui constitue le nom ;\n",
    "* et enfin contiennent un deuxième caractère `:` mais optionnellement seulement."
   ]
  },
  {
   "cell_type": "markdown",
   "id": "f047f892",
   "metadata": {
    "pycharm": {
     "name": "#%% md\n"
    }
   },
   "source": [
    "On vous demande de construire une expression régulière qui définit les deux groupes `nom` et `prenom`, et qui rejette les lignes qui ne satisfont pas ces critères. \n",
    "\n",
    "Dans la correction - et ce sera pareil pour tous les exercices de regexp où on demande des groupes - la correction affiche **uniquement les groupes demandés**; ici on va vous montrer les groupes `nom` et `prenom`; vous avez parfaitement le droit d'utiliser des groupes supplémentaires, nommés ou pas d'ailleurs, dans votre propre regexp."
   ]
  },
  {
   "cell_type": "code",
   "execution_count": null,
   "id": "910fe843",
   "metadata": {
    "pycharm": {
     "name": "#%%\n"
    }
   },
   "outputs": [],
   "source": [
    "# entrez votre regexp ici\n",
    "# il faudra la faire terminer par \\Z\n",
    "# regardez ce qui se passe si vous ne le faites pas\n",
    "\n",
    "regexp_agenda = r\"votre regexp\\Z\""
   ]
  },
  {
   "cell_type": "code",
   "execution_count": null,
   "id": "58077410",
   "metadata": {
    "pycharm": {
     "name": "#%%\n"
    }
   },
   "outputs": [],
   "source": [
    "# évaluez cette cellule pour valider votre code\n",
    "exo_agenda.correction(regexp_agenda)"
   ]
  },
  {
   "cell_type": "markdown",
   "id": "a6142bac",
   "metadata": {
    "pycharm": {
     "name": "#%% md\n"
    }
   },
   "source": [
    "## Exercice - niveau intermédiaire (3)"
   ]
  },
  {
   "cell_type": "markdown",
   "id": "1d211290",
   "metadata": {
    "pycharm": {
     "name": "#%% md\n"
    }
   },
   "source": [
    "##### Numéros de téléphone\n",
    "\n",
    "Cette fois on veut reconnaître des numéros de téléphone français, qui peuvent être :\n",
    "\n",
    "* soit au format contenant 10 chiffres dont le premier est un `0` ;\n",
    "* soit un format international commençant par `+33` suivie de 9 chiffres.\n",
    "\n",
    "Dans tous les cas on veut trouver dans le groupe `number` les 9 chiffres vraiment significatifs, comme ceci :"
   ]
  },
  {
   "cell_type": "code",
   "execution_count": null,
   "id": "955d5824",
   "metadata": {
    "pycharm": {
     "name": "#%%\n"
    }
   },
   "outputs": [],
   "source": [
    "from corrections.regexp_phone import exo_phone\n",
    "exo_phone.example()"
   ]
  },
  {
   "cell_type": "code",
   "execution_count": null,
   "id": "f1097330",
   "metadata": {
    "pycharm": {
     "name": "#%%\n"
    }
   },
   "outputs": [],
   "source": [
    "# votre regexp\n",
    "# à nouveau il faut terminer la regexp par \\Z\n",
    "regexp_phone = r\"votre regexp\\Z\""
   ]
  },
  {
   "cell_type": "code",
   "execution_count": null,
   "id": "0e798aee",
   "metadata": {
    "pycharm": {
     "name": "#%%\n"
    }
   },
   "outputs": [],
   "source": [
    "# évaluez cette cellule pour valider votre code\n",
    "exo_phone.correction(regexp_phone)"
   ]
  },
  {
   "cell_type": "markdown",
   "id": "a57c2b89",
   "metadata": {
    "pycharm": {
     "name": "#%% md\n"
    }
   },
   "source": [
    "## Exercice - niveau avancé"
   ]
  },
  {
   "cell_type": "markdown",
   "id": "82e3b1bf",
   "metadata": {
    "pycharm": {
     "name": "#%% md\n"
    }
   },
   "source": [
    "Vu comment sont conçus les exercices, vous ne pouvez pas passer à `re.compile` un drapeau comme `re.IGNORECASE` ou autre ; sachez cependant que vous pouvez ***embarquer* ces drapeaux dans la *regexp*** elle-même ; par exemple pour rendre la regexp insensible à la casse de caractères, au lieu d'appeler `re.compile` avec le flag `re.I`, vous pouvez utiliser `(?i)` comme ceci :"
   ]
  },
  {
   "cell_type": "code",
   "execution_count": null,
   "id": "a2c33246",
   "metadata": {
    "pycharm": {
     "name": "#%%\n"
    }
   },
   "outputs": [],
   "source": [
    "import re"
   ]
  },
  {
   "cell_type": "code",
   "execution_count": null,
   "id": "83daffb1",
   "metadata": {
    "pycharm": {
     "name": "#%%\n"
    }
   },
   "outputs": [],
   "source": [
    "# on peut embarquer les flags comme IGNORECASE\n",
    "# directement dans la regexp\n",
    "# c'est équivalent de faire ceci\n",
    "\n",
    "re_obj = re.compile(\"abc\", flags=re.IGNORECASE)\n",
    "re_obj.match(\"ABC\").group(0)"
   ]
  },
  {
   "cell_type": "code",
   "execution_count": null,
   "id": "285063d1",
   "metadata": {
    "pycharm": {
     "name": "#%%\n"
    }
   },
   "outputs": [],
   "source": [
    "# ou cela\n",
    "\n",
    "re.match(\"(?i)abc\",\"ABC\").group(0)"
   ]
  },
  {
   "cell_type": "code",
   "execution_count": null,
   "id": "cefaca1b",
   "metadata": {
    "pycharm": {
     "name": "#%%\n"
    }
   },
   "outputs": [],
   "source": [
    "# les flags comme (?i) doivent apparaître\n",
    "# en premier dans la regexp\n",
    "re.match(\"abc(?i)\",\"ABC\").group(0)"
   ]
  },
  {
   "cell_type": "markdown",
   "id": "1b974043",
   "metadata": {
    "pycharm": {
     "name": "#%% md\n"
    }
   },
   "source": [
    "Pour plus de précisions sur ce trait, que nous avons laissé de côté dans le complément pour ne pas trop l'alourdir, voyez [la documentation sur les expressions régulières](https://docs.python.org/3/library/re.html#regular-expression-syntax) et cherchez la première occurrence de `iLmsux`."
   ]
  },
  {
   "cell_type": "markdown",
   "id": "e6bd9e36",
   "metadata": {
    "pycharm": {
     "name": "#%% md\n"
    }
   },
   "source": [
    "### Décortiquer une URL"
   ]
  },
  {
   "cell_type": "markdown",
   "id": "c500d2d1",
   "metadata": {
    "pycharm": {
     "name": "#%% md\n"
    }
   },
   "source": [
    "On vous demande d'écrire une expression régulière qui permette d'analyser des URLs.\n",
    "\n",
    "Voici les conventions que nous avons adoptées pour l'exercice :\n",
    "\n",
    "* la chaîne contient les parties suivantes :\n",
    "  * `<protocol>://<location>/<path>` ;\n",
    "* l'URL commence par le nom d'un protocole qui doit être parmi `http`, `https`, `ftp`, `ssh` ;\n",
    "* le nom du protocole peut contenir de manière indifférente des minuscules ou des majuscules ;\n",
    "* ensuite doit venir la séquence `://` ;\n",
    "* ensuite on va trouver une chaîne `<location>` qui contient :\n",
    "  * potentiellement un nom d'utilisateur, et s'il est présent, potentiellement un mot de passe ;\n",
    "  * obligatoirement un nom de `hostname` ;\n",
    "  * potentiellement un numéro de port ;\n",
    "* lorsque les 4 parties sont présentes dans `<location>`, cela se présente comme ceci :\n",
    "  * `<location> = <user>:<password>@<hostname>:<port>` ;\n",
    "* si l'on note entre crochets les parties optionnelles, cela donne :\n",
    "  * `<location> = [<user>[:<password>]@]<hostname>[:<port>]` ;\n",
    "* le champ `<user>` ne peut contenir que des caractères alphanumériques ; si le `@` est présent le champ `<user>` ne peut pas être vide ;\n",
    "* le champ `<password>` peut contenir tout sauf un `:` et de même, si le `:` est présent le champ `<password>` ne peut pas être vide ;\n",
    "* le champ `<hostname>` peut contenir une suite non-vide de caractères alphanumériques, underscores, ou `.` ;\n",
    "* le champ `<port>` ne contient que des chiffres, et il est non vide si le `:` est spécifié ;\n",
    "* le champ `<path>` peut être vide.\n",
    "\n",
    "Enfin, vous devez définir les groupes `proto`, `user`, `password`, `hostname`, `port` et `path` qui sont utilisés pour vérifier votre résultat. Dans la case `Résultat attendu`, vous trouverez soit `None` si la regexp ne filtre pas l'intégralité de l'entrée, ou bien une liste ordonnée de tuples qui donnent la valeur de ces groupes ; vous n'avez rien à faire pour construire ces tuples, c'est l'exercice qui s'en occupe."
   ]
  },
  {
   "cell_type": "code",
   "execution_count": null,
   "id": "59ae6550",
   "metadata": {
    "pycharm": {
     "name": "#%%\n"
    }
   },
   "outputs": [],
   "source": [
    "# exemples du résultat attendu\n",
    "from corrections.regexp_url import exo_url\n",
    "exo_url.example()"
   ]
  },
  {
   "cell_type": "code",
   "execution_count": null,
   "id": "836f54db",
   "metadata": {
    "pycharm": {
     "name": "#%%\n"
    }
   },
   "outputs": [],
   "source": [
    "# n'hésitez pas à construire votre regexp petit à petit\n",
    "\n",
    "regexp_url = \"votre_regexp\""
   ]
  },
  {
   "cell_type": "code",
   "execution_count": null,
   "id": "92b01384",
   "metadata": {
    "pycharm": {
     "name": "#%%\n"
    }
   },
   "outputs": [],
   "source": [
    "exo_url.correction(regexp_url)"
   ]
  }
 ],
 "metadata": {
  "ipub": {
   "sphinx": {
    "toggle_input": true,
    "toggle_input_all": true,
    "toggle_output": true,
    "toggle_output_all": true
   }
  },
  "jupytext": {
   "cell_metadata_filter": "all, -hidden, -heading_collapsed, -run_control, -trusted",
   "notebook_metadata_filter": "all, -jupytext.text_representation.jupytext_version, -jupytext.text_representation.format_version, -language_info.version, -language_info.codemirror_mode.version, -language_info.codemirror_mode, -language_info.file_extension, -language_info.mimetype, -toc",
   "text_representation": {
    "extension": ".md",
    "format_name": "myst"
   }
  },
  "kernelspec": {
   "display_name": "Python 3 (ipykernel)",
   "language": "python",
   "name": "python3"
  },
  "language_info": {
   "name": "python",
   "nbconvert_exporter": "python",
   "pygments_lexer": "ipython3"
  },
  "livereveal": {
   "auto_select": "code",
   "auto_select_fragment": true,
   "autolaunch": false,
   "backimage": "media/nologo.png",
   "height": "100%",
   "start_slideshow_at": "selected",
   "theme": "simple",
   "transition": "fade",
   "width": "100%"
  },
  "notebookname": "Exos regexps",
  "version": "3.0"
 },
 "nbformat": 4,
 "nbformat_minor": 5
}