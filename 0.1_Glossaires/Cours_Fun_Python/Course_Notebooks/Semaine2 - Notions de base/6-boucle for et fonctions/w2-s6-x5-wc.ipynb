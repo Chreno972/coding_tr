{
 "cells": [
  {
   "cell_type": "markdown",
   "id": "c96170f6",
   "metadata": {},
   "source": [
    "<div class=\"licence\">\n",
    "<span>Licence CC BY-NC-ND</span>\n",
    "<span>Thierry Parmentelat &amp; Arnaud Legout</span>\n",
    "<span><img src=\"media/both-logos-small-alpha.png\" /></span>\n",
    "</div>"
   ]
  },
  {
   "cell_type": "markdown",
   "id": "87b71901",
   "metadata": {},
   "source": [
    "# Comptage dans les chaines"
   ]
  },
  {
   "cell_type": "markdown",
   "id": "482fd125",
   "metadata": {},
   "source": [
    "## Exercice - niveau basique"
   ]
  },
  {
   "cell_type": "markdown",
   "id": "57368d92",
   "metadata": {},
   "source": [
    "Nous remercions Benoit Izac pour cette contribution aux exercices."
   ]
  },
  {
   "cell_type": "markdown",
   "id": "4fa92857",
   "metadata": {},
   "source": [
    "## La commande UNIX wc(1)\n",
    "\n",
    "---\n",
    "\n",
    "Sur les systèmes de type UNIX, la commande [wc](http://pubs.opengroup.org/onlinepubs/9699919799/utilities/wc.html) permet de compter le nombre de lignes, de mots et d'octets (ou de caractères) présents sur l'entrée standard ou contenus dans un fichier.\n",
    "\n",
    "L'exercice consiste à écrire une fonction nommée *wc* qui prendra en argument une chaîne de caractères et retournera une liste contenant trois éléments :\n",
    "\n",
    "1. le nombre de lignes (plus précisément le nombre de retours à la ligne) ;\n",
    "2. le nombre de mots (un mot étant séparé par des espaces) ;\n",
    "3. le nombre de caractères (on utilisera uniquement le jeu de caractères ASCII)."
   ]
  },
  {
   "cell_type": "code",
   "execution_count": null,
   "id": "65804cf2",
   "metadata": {},
   "outputs": [],
   "source": [
    "# exemple\n",
    "from corrections.exo_wc import exo_wc\n",
    "exo_wc.example()"
   ]
  },
  {
   "cell_type": "markdown",
   "id": "bcae5a1d",
   "metadata": {},
   "source": [
    "**Indice** : nous avons vu rapidement la boucle `for`, sachez toutefois qu'on peut tout à fait résoudre l'exercice en utilisant uniquement la bibliothèque standard.\n",
    "\n",
    "**Remarque** : usuellement, ce genre de fonctions retournerait plutôt un tuple qu'une liste, mais comme nous ne voyons les tuples que la semaine prochaine.."
   ]
  },
  {
   "cell_type": "markdown",
   "id": "772c1362",
   "metadata": {},
   "source": [
    "À vous de jouer :"
   ]
  },
  {
   "cell_type": "code",
   "execution_count": null,
   "id": "9d2f7a5b",
   "metadata": {},
   "outputs": [],
   "source": [
    "# la fonction à implémenter\n",
    "def wc(string):\n",
    "    # remplacer pass par votre code\n",
    "    pass"
   ]
  },
  {
   "cell_type": "code",
   "execution_count": null,
   "id": "71d5e0e6",
   "metadata": {
    "slideshow": {
     "slide_type": "fragment"
    }
   },
   "outputs": [],
   "source": [
    "# correction\n",
    "exo_wc.correction(wc)"
   ]
  }
 ],
 "metadata": {
  "jupytext": {
   "cell_metadata_filter": "all, -hidden, -heading_collapsed, -run_control, -trusted",
   "notebook_metadata_filter": "all, -jupytext.text_representation.jupytext_version, -jupytext.text_representation.format_version, -language_info.version, -language_info.codemirror_mode.version, -language_info.codemirror_mode, -language_info.file_extension, -language_info.mimetype, -toc",
   "text_representation": {
    "extension": ".md",
    "format_name": "myst"
   }
  },
  "kernelspec": {
   "display_name": "Python 3 (ipykernel)",
   "language": "python",
   "name": "python3"
  },
  "language_info": {
   "name": "python",
   "nbconvert_exporter": "python",
   "pygments_lexer": "ipython3"
  },
  "notebookname": "Comptage dans une chaîne",
  "version": "3.0"
 },
 "nbformat": 4,
 "nbformat_minor": 5
}
