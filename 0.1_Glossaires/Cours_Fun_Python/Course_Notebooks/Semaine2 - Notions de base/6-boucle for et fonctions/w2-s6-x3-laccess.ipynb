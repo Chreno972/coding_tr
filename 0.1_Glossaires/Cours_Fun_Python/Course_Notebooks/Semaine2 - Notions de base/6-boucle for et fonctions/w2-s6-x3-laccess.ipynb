{
 "cells": [
  {
   "cell_type": "markdown",
   "id": "925a4d68",
   "metadata": {},
   "source": [
    "<div class=\"licence\">\n",
    "<span>Licence CC BY-NC-ND</span>\n",
    "<span>Thierry Parmentelat &amp; Arnaud Legout</span>\n",
    "<span><img src=\"media/both-logos-small-alpha.png\" /></span>\n",
    "</div>"
   ]
  },
  {
   "cell_type": "markdown",
   "id": "36e4e2c5",
   "metadata": {},
   "source": [
    "# Listes"
   ]
  },
  {
   "cell_type": "markdown",
   "id": "2c6402ae",
   "metadata": {},
   "source": [
    "## Exercice - niveau basique\n",
    "\n",
    "Vous devez écrire une fonction `laccess` qui prend en argument une liste, et qui retourne :\n",
    "\n",
    "* `None` si la liste est vide ;\n",
    "* sinon le dernier élément de la liste si elle est de taille paire ;\n",
    "* et sinon l'élément du milieu."
   ]
  },
  {
   "cell_type": "code",
   "execution_count": null,
   "id": "3e5c9ad6",
   "metadata": {},
   "outputs": [],
   "source": [
    "from corrections.exo_laccess import exo_laccess\n",
    "exo_laccess.example()"
   ]
  },
  {
   "cell_type": "code",
   "execution_count": null,
   "id": "2e2bb484",
   "metadata": {},
   "outputs": [],
   "source": [
    "# écrivez votre code ici\n",
    "def laccess(liste):\n",
    "    return \"votre code\""
   ]
  },
  {
   "cell_type": "code",
   "execution_count": null,
   "id": "4f270158",
   "metadata": {},
   "outputs": [],
   "source": [
    "# pour le corriger\n",
    "exo_laccess.correction(laccess)"
   ]
  },
  {
   "cell_type": "markdown",
   "id": "7e098ff5",
   "metadata": {},
   "source": [
    "Une fois que votre code fonctionne, vous pouvez regarder si par hasard il marcherait aussi avec des chaînes :"
   ]
  },
  {
   "cell_type": "code",
   "execution_count": null,
   "id": "67a19264",
   "metadata": {},
   "outputs": [],
   "source": [
    "from corrections.exo_laccess import exo_laccess_strings\n",
    "exo_laccess_strings.correction(laccess)"
   ]
  }
 ],
 "metadata": {
  "jupytext": {
   "cell_metadata_filter": "all, -hidden, -heading_collapsed, -run_control, -trusted",
   "notebook_metadata_filter": "all, -jupytext.text_representation.jupytext_version, -jupytext.text_representation.format_version, -language_info.version, -language_info.codemirror_mode.version, -language_info.codemirror_mode, -language_info.file_extension, -language_info.mimetype, -toc",
   "text_representation": {
    "extension": ".md",
    "format_name": "myst"
   }
  },
  "kernelspec": {
   "display_name": "Python 3 (ipykernel)",
   "language": "python",
   "name": "python3"
  },
  "language_info": {
   "name": "python",
   "nbconvert_exporter": "python",
   "pygments_lexer": "ipython3"
  },
  "notebookname": "Listes",
  "version": "3.0"
 },
 "nbformat": 4,
 "nbformat_minor": 5
}
