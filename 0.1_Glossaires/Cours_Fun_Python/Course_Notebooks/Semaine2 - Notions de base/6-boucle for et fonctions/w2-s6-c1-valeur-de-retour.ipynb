{
 "cells": [
  {
   "cell_type": "markdown",
   "id": "dd228278",
   "metadata": {},
   "source": [
    "<div class=\"licence\">\n",
    "<span>Licence CC BY-NC-ND</span>\n",
    "<span>Thierry Parmentelat &amp; Arnaud Legout</span>\n",
    "<span><img src=\"media/both-logos-small-alpha.png\" /></span>\n",
    "</div>"
   ]
  },
  {
   "cell_type": "markdown",
   "id": "5a11ccf9",
   "metadata": {},
   "source": [
    "# Fonctions avec ou sans valeur de retour"
   ]
  },
  {
   "cell_type": "markdown",
   "id": "1e81183c",
   "metadata": {},
   "source": [
    "## Complément - niveau basique"
   ]
  },
  {
   "cell_type": "markdown",
   "id": "4a814e8d",
   "metadata": {},
   "source": [
    "### Le style procédural"
   ]
  },
  {
   "cell_type": "markdown",
   "id": "9013399f",
   "metadata": {},
   "source": [
    "Une procédure est une fonction qui se contente de dérouler des instructions. Voici un exemple d'une telle fonction :"
   ]
  },
  {
   "cell_type": "code",
   "execution_count": null,
   "id": "a5417043",
   "metadata": {},
   "outputs": [],
   "source": [
    "def affiche_carre(n):\n",
    "    print(\"le carre de\", n, \"vaut\", n*n)"
   ]
  },
  {
   "cell_type": "markdown",
   "id": "0be6207d",
   "metadata": {},
   "source": [
    "qui s'utiliserait comme ceci :"
   ]
  },
  {
   "cell_type": "code",
   "execution_count": null,
   "id": "fa0f8471",
   "metadata": {},
   "outputs": [],
   "source": [
    "affiche_carre(12)"
   ]
  },
  {
   "cell_type": "markdown",
   "id": "b665feb2",
   "metadata": {},
   "source": [
    "### Le style fonctionnel"
   ]
  },
  {
   "cell_type": "markdown",
   "id": "31fd83a3",
   "metadata": {},
   "source": [
    "Mais en fait, dans notre cas, il serait beaucoup plus commode de définir une fonction qui **retourne** le carré d'un nombre, afin de pouvoir écrire quelque chose comme :"
   ]
  },
  {
   "cell_type": "markdown",
   "id": "21fa0e23",
   "metadata": {},
   "source": [
    "```python\n",
    "surface = carre(15)\n",
    "```"
   ]
  },
  {
   "cell_type": "markdown",
   "id": "4d96a678",
   "metadata": {},
   "source": [
    "quitte à imprimer cette valeur ensuite si nécessaire. Jusqu'ici nous avons fait beaucoup appel à `print`, mais dans la pratique, imprimer n'est pas un but en soi."
   ]
  },
  {
   "cell_type": "markdown",
   "id": "08b9d0c6",
   "metadata": {},
   "source": [
    "### L'instruction `return`"
   ]
  },
  {
   "cell_type": "markdown",
   "id": "551e8e71",
   "metadata": {},
   "source": [
    "Voici comment on pourrait écrire une fonction `carre` qui **retourne** (on dit aussi **renvoie**) le carré de son argument :"
   ]
  },
  {
   "cell_type": "code",
   "execution_count": null,
   "id": "b9664a2d",
   "metadata": {},
   "outputs": [],
   "source": [
    "def carre(n):\n",
    "    return n*n\n",
    "\n",
    "if carre(8) <= 100:\n",
    "    print('petit appartement')"
   ]
  },
  {
   "cell_type": "markdown",
   "id": "7e008203",
   "metadata": {},
   "source": [
    "La sémantique (le mot savant pour \"comportement\") de l'instruction `return` est assez simple. La fonction qui est en cours d'exécution **s'achève** immédiatement, et l'objet cité dans l'instruction `return` est retourné à l'appelant, qui peut utiliser cette valeur comme n'importe quelle expression."
   ]
  },
  {
   "cell_type": "markdown",
   "id": "ba302903",
   "metadata": {},
   "source": [
    "### Le singleton `None`"
   ]
  },
  {
   "cell_type": "markdown",
   "id": "4cd300ee",
   "metadata": {},
   "source": [
    "Le terme même de fonction, si vous vous rappelez vos souvenirs de mathématiques, suggère qu'on calcule un résultat à partir de valeurs d'entrée. Dans la pratique il est assez rare qu'on définisse une fonction qui ne retourne rien."
   ]
  },
  {
   "cell_type": "markdown",
   "id": "2f09db0a",
   "metadata": {},
   "source": [
    "En fait **toutes** les fonctions retournent quelque chose. Lorsque le programmeur n'a pas prévu d'instruction `return`, Python retourne un objet spécial, baptisé `None`. Voici par exemple ce qu'on obtient si on essaie d'afficher la valeur de retour de notre première fonction, qui, on le rappelle, ne retourne rien :"
   ]
  },
  {
   "cell_type": "code",
   "execution_count": null,
   "id": "46a7fc9e",
   "metadata": {},
   "outputs": [],
   "source": [
    "# ce premier appel provoque l'impression d'une ligne\n",
    "retour = affiche_carre(15)"
   ]
  },
  {
   "cell_type": "code",
   "execution_count": null,
   "id": "a58335ae",
   "metadata": {},
   "outputs": [],
   "source": [
    "# voyons ce qu'a retourné la fonction affiche_carre\n",
    "print('retour =', retour)"
   ]
  },
  {
   "cell_type": "markdown",
   "id": "73a35be4",
   "metadata": {},
   "source": [
    "L'objet `None` est un singleton prédéfini par Python, un peu comme `True` et `False`. Ce n'est pas par contre une valeur booléenne, nous aurons l'occasion d'en reparler."
   ]
  },
  {
   "cell_type": "markdown",
   "id": "cfcace1a",
   "metadata": {},
   "source": [
    "### Un exemple un peu plus réaliste"
   ]
  },
  {
   "cell_type": "markdown",
   "id": "9b94536e",
   "metadata": {},
   "source": [
    "Pour illustrer l'utilisation de `return` sur un exemple plus utile, voyons le code suivant :"
   ]
  },
  {
   "cell_type": "code",
   "execution_count": null,
   "id": "11ac49a6",
   "metadata": {},
   "outputs": [],
   "source": [
    "def premier(n):\n",
    "    \"\"\"\n",
    "    Retourne un booléen selon que n est premier ou non\n",
    "    Retourne None pour les entrées négatives ou nulles\n",
    "    \"\"\"\n",
    "    # retourne None pour les entrées non valides\n",
    "    if n <= 0:\n",
    "        return\n",
    "    # traiter le cas singulier\n",
    "    # NB: elif est un raccourci pour else if\n",
    "    # c'est utile pour éviter une indentation excessive\n",
    "    elif n == 1:\n",
    "        return False\n",
    "    # chercher un diviseur dans [2..n-1]\n",
    "    # bien sûr on pourrait s'arrêter à la racine carrée de n\n",
    "    # mais ce n'est pas notre sujet\n",
    "    else:\n",
    "        for i in range(2, n):\n",
    "            if n % i == 0:\n",
    "                # on a trouvé un diviseur,\n",
    "                # on peut sortir de la fonction\n",
    "                return False\n",
    "    # à ce stade, le nombre est bien premier\n",
    "    return True"
   ]
  },
  {
   "cell_type": "markdown",
   "id": "920db04e",
   "metadata": {},
   "source": [
    "Cette fonction teste si un entier est premier ou non ; il s'agit naturellement d'une version d'école, il existe  d'autres méthodes beaucoup plus adaptées à cette tâche. On peut toutefois vérifier que cette version est fonctionnelle pour de petits entiers comme suit. On rappelle que `1` n'est pas considéré comme un nombre premier :"
   ]
  },
  {
   "cell_type": "code",
   "execution_count": null,
   "id": "07d11b9e",
   "metadata": {},
   "outputs": [],
   "source": [
    "for test in [-2, 1, 2, 4, 19, 35]:\n",
    "    print(f\"premier({test:2d}) = {premier(test)}\")"
   ]
  },
  {
   "cell_type": "markdown",
   "id": "410ec811",
   "metadata": {},
   "source": [
    "##### `return` sans valeur"
   ]
  },
  {
   "cell_type": "markdown",
   "id": "60b02369",
   "metadata": {},
   "source": [
    "Pour les besoins de cette discussion, nous avons choisi de retourner `None` pour les entiers négatifs ou nuls, une manière comme une autre de signaler que la valeur en entrée n'est pas valide.\n",
    "\n",
    "Ceci n'est pas forcément une bonne pratique, mais elle nous permet ici d'illustrer que dans le cas où on ne mentionne pas de valeur de retour, Python retourne `None`."
   ]
  },
  {
   "cell_type": "markdown",
   "id": "0f04e814",
   "metadata": {},
   "source": [
    "##### `return` interrompt la fonction"
   ]
  },
  {
   "cell_type": "markdown",
   "id": "3459fcaa",
   "metadata": {},
   "source": [
    "Comme on peut s'en convaincre en instrumentant le code - ce que vous pouvez faire à titre d'exercice en ajoutant des fonctions `print` - dans le cas d'un nombre qui n'est pas premier la boucle `for` ne va pas jusqu'à son terme."
   ]
  },
  {
   "cell_type": "markdown",
   "id": "b0a7410f",
   "metadata": {},
   "source": [
    "On aurait pu d'ailleurs tirer profit de cette propriété pour écrire la fonction de manière légèrement différente comme ceci :"
   ]
  },
  {
   "cell_type": "code",
   "execution_count": null,
   "id": "a96ad51d",
   "metadata": {},
   "outputs": [],
   "source": [
    "def premier_sans_else(n):\n",
    "    \"\"\"\n",
    "    Retourne un booléen selon que n est premier ou non\n",
    "    Retourne None pour les entrées négatives ou nulles\n",
    "    \"\"\"\n",
    "    # retourne None pour les entrées non valides\n",
    "    if n <= 0:\n",
    "        return\n",
    "    # traiter le cas singulier\n",
    "    if n == 1:\n",
    "        return False\n",
    "    # par rapport à la première version, on a supprimé\n",
    "    # la clause else: qui est inutile\n",
    "    for i in range(2, n):\n",
    "        if n % i == 0:\n",
    "            # on a trouve un diviseur\n",
    "            return False\n",
    "    # a ce stade c'est que le nombre est bien premier\n",
    "    return True"
   ]
  },
  {
   "cell_type": "markdown",
   "id": "4ed4cb17",
   "metadata": {},
   "source": [
    "C'est une question de style et de goût. En tout cas, les deux versions sont tout à fait équivalentes, comme on le voit ici :"
   ]
  },
  {
   "cell_type": "code",
   "execution_count": null,
   "id": "059be66b",
   "metadata": {},
   "outputs": [],
   "source": [
    "for test in [-2, 2, 4, 19, 35]:\n",
    "    print(f\"pour n = {test:2d} : premier → {premier(test)}\\n\"\n",
    "          f\"    premier_sans_else → {premier_sans_else(test)}\\n\")"
   ]
  },
  {
   "cell_type": "markdown",
   "id": "14c59306",
   "metadata": {},
   "source": [
    "##### Digression sur les chaînes"
   ]
  },
  {
   "cell_type": "markdown",
   "id": "2345bee9",
   "metadata": {},
   "source": [
    "Vous remarquerez dans cette dernière cellule, si vous regardez bien le paramètre de `print`,  qu'on peut accoler deux chaînes (ici deux *f-strings*) sans même les ajouter ; un petit détail pour éviter d'alourdir le code :"
   ]
  },
  {
   "cell_type": "code",
   "execution_count": null,
   "id": "31f3f9da",
   "metadata": {},
   "outputs": [],
   "source": [
    "# quand deux chaînes apparaissent immédiatement\n",
    "# l'une après l'autre sans opérateur, elles sont concaténées\n",
    "\"abc\" \"def\""
   ]
  }
 ],
 "metadata": {
  "jupytext": {
   "cell_metadata_filter": "all, -hidden, -heading_collapsed, -run_control, -trusted",
   "notebook_metadata_filter": "all, -jupytext.text_representation.jupytext_version, -jupytext.text_representation.format_version, -language_info.version, -language_info.codemirror_mode.version, -language_info.codemirror_mode, -language_info.file_extension, -language_info.mimetype, -toc",
   "text_representation": {
    "extension": ".md",
    "format_name": "myst"
   }
  },
  "kernelspec": {
   "display_name": "Python 3 (ipykernel)",
   "language": "python",
   "name": "python3"
  },
  "language_info": {
   "name": "python",
   "nbconvert_exporter": "python",
   "pygments_lexer": "ipython3"
  },
  "notebookname": "Valeurs de retour",
  "version": "3.0"
 },
 "nbformat": 4,
 "nbformat_minor": 5
}
