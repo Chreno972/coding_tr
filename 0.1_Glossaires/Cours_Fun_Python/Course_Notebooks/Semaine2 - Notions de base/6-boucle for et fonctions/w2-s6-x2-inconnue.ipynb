{
 "cells": [
  {
   "cell_type": "markdown",
   "id": "6f83ecfc",
   "metadata": {},
   "source": [
    "<div class=\"licence\">\n",
    "<span>Licence CC BY-NC-ND</span>\n",
    "<span>Thierry Parmentelat &amp; Arnaud Legout</span>\n",
    "<span><img src=\"media/both-logos-small-alpha.png\" /></span>\n",
    "</div>"
   ]
  },
  {
   "cell_type": "markdown",
   "id": "85422031",
   "metadata": {},
   "source": [
    "# Séquences"
   ]
  },
  {
   "cell_type": "markdown",
   "id": "0f58098a",
   "metadata": {},
   "source": [
    "## Exercice - niveau basique"
   ]
  },
  {
   "cell_type": "markdown",
   "id": "bf2d1d51",
   "metadata": {},
   "source": [
    "### Slicing"
   ]
  },
  {
   "cell_type": "markdown",
   "id": "d4a57fb6",
   "metadata": {},
   "source": [
    "Commençons par créer une chaîne de caractères. Ne vous inquiétez pas si vous ne comprenez pas encore le code d'initialisation utilisé ci-dessous.\n",
    "\n",
    "Pour les plus curieux, l'instruction `import`  permet de charger dans votre programme une boîte à outils que l'on appelle un module. Python vient avec de nombreux modules qui forment la bibliothèque standard. Le plus difficile avec les modules de la bibliothèque standard est de savoir qu'ils existent. En effet, il y en a un grand nombre et bien souvent il existe un module pour faire ce que vous souhaitez.\n",
    "\n",
    "Ici en particulier nous utilisons le module `string`."
   ]
  },
  {
   "cell_type": "code",
   "execution_count": null,
   "id": "60fcfef2",
   "metadata": {},
   "outputs": [],
   "source": [
    "# nous allons tirer profit ici d'une \n",
    "# constante définie dans le module string\n",
    "import string\n",
    "chaine = string.ascii_lowercase\n",
    "\n",
    "# et voici sa valeur\n",
    "print(chaine)"
   ]
  },
  {
   "cell_type": "markdown",
   "id": "ae954a4f",
   "metadata": {},
   "source": [
    "Pour chacune des sous-chaînes ci-dessous, écrire une expression de slicing sur `chaine` qui renvoie la sous-chaîne. La cellule de code doit retourner `True`."
   ]
  },
  {
   "cell_type": "markdown",
   "id": "30435fee",
   "metadata": {},
   "source": [
    "Par exemple, pour obtenir \"def\" :"
   ]
  },
  {
   "cell_type": "code",
   "execution_count": null,
   "id": "6083c77e",
   "metadata": {},
   "outputs": [],
   "source": [
    "chaine[3:6] == \"def\""
   ]
  },
  {
   "cell_type": "markdown",
   "id": "03f7e9c5",
   "metadata": {},
   "source": [
    "1) Écrivez une slice pour obtenir \"vwx\" (n'hésitez pas à utiliser les indices négatifs) :"
   ]
  },
  {
   "cell_type": "code",
   "execution_count": null,
   "id": "fa4cac50",
   "metadata": {
    "latex:skip-eval": true
   },
   "outputs": [],
   "source": [
    "chaine[ <votre_code> ] == \"vwx\""
   ]
  },
  {
   "cell_type": "markdown",
   "id": "67d51153",
   "metadata": {},
   "source": [
    "2) Une slice pour obtenir \"wxyz\" (avec une seule constante) :"
   ]
  },
  {
   "cell_type": "code",
   "execution_count": null,
   "id": "bc1aa853",
   "metadata": {
    "latex:skip-eval": true
   },
   "outputs": [],
   "source": [
    "chaine[ <votre_code> ] == \"wxyz\""
   ]
  },
  {
   "cell_type": "markdown",
   "id": "6393ca37",
   "metadata": {},
   "source": [
    "3) Une slice pour obtenir \"dfhjlnprtvxz\" (avec deux constantes) :"
   ]
  },
  {
   "cell_type": "code",
   "execution_count": null,
   "id": "4491a2fc",
   "metadata": {
    "latex:skip-eval": true
   },
   "outputs": [],
   "source": [
    "chaine[ <votre_code> ] == \"dfhjlnprtvxz\""
   ]
  },
  {
   "cell_type": "markdown",
   "id": "bd2b0880",
   "metadata": {},
   "source": [
    "4) Une slice pour obtenir \"xurolifc\" (avec deux constantes) :"
   ]
  },
  {
   "cell_type": "code",
   "execution_count": null,
   "id": "f68bc00b",
   "metadata": {
    "latex:skip-eval": true
   },
   "outputs": [],
   "source": [
    "chaine[ <votre_code> ] == \"xurolifc\""
   ]
  },
  {
   "cell_type": "markdown",
   "id": "d1b65d9d",
   "metadata": {},
   "source": [
    "## Exercice - niveau intermédiaire"
   ]
  },
  {
   "cell_type": "markdown",
   "id": "06aee683",
   "metadata": {},
   "source": [
    "### Longueur"
   ]
  },
  {
   "cell_type": "code",
   "execution_count": null,
   "id": "953a546e",
   "metadata": {},
   "outputs": [],
   "source": [
    "# il vous faut évaluer cette cellule magique\n",
    "# pour charger l'exercice qui suit\n",
    "# et autoévaluer votre réponse\n",
    "from corrections.exo_inconnue import exo_inconnue"
   ]
  },
  {
   "cell_type": "markdown",
   "id": "bbc474f0",
   "metadata": {},
   "source": [
    "On vous donne une chaîne `composite` dont on sait qu'elle a été calculée à partir de deux chaînes `inconnue` et `connue` comme ceci :\n",
    "```python\n",
    "composite = connue + inconnue + connue\n",
    "```"
   ]
  },
  {
   "cell_type": "markdown",
   "id": "ed5dc603",
   "metadata": {},
   "source": [
    "On vous donne également la chaîne `connue`. Imaginez par exemple que vous avez (ce ne sont pas les vraies valeurs) :\n",
    "```python\n",
    "connue = '0bf1'\n",
    "composite = '0bf1a9730e150bf1'\n",
    "```\n",
    "alors, dans ce cas :\n",
    "```python\n",
    "inconnue = 'a9730e15'\n",
    "```"
   ]
  },
  {
   "cell_type": "markdown",
   "id": "f65d297b",
   "metadata": {},
   "source": [
    "L'exercice consiste à écrire une fonction qui retourne la valeur de `inconnue` à partir de celles de `composite` et `connue`. Vous pouvez admettre que `connue` n'est pas vide, c'est-à-dire qu'elle contient au moins un caractère."
   ]
  },
  {
   "cell_type": "markdown",
   "id": "0b5ea9fd",
   "metadata": {},
   "source": [
    "Vous pouvez utiliser du *slicing*, et la fonction `len()`, qui retourne la longueur d'une chaîne :"
   ]
  },
  {
   "cell_type": "code",
   "execution_count": null,
   "id": "23918cc3",
   "metadata": {},
   "outputs": [],
   "source": [
    "len('abcd')"
   ]
  },
  {
   "cell_type": "code",
   "execution_count": null,
   "id": "a4d65461",
   "metadata": {},
   "outputs": [],
   "source": [
    "# à vous de jouer\n",
    "def inconnue(composite, connue):\n",
    "    \"votre code\""
   ]
  },
  {
   "cell_type": "markdown",
   "id": "3baa3474",
   "metadata": {},
   "source": [
    "Une fois votre code évalué, vous pouvez évaluer la cellule suivante pour vérifier votre résultat."
   ]
  },
  {
   "cell_type": "code",
   "execution_count": null,
   "id": "12ed39e7",
   "metadata": {
    "latex:skip-eval": true
   },
   "outputs": [],
   "source": [
    "# correction\n",
    "exo_inconnue.correction(inconnue)"
   ]
  },
  {
   "cell_type": "markdown",
   "id": "679874eb",
   "metadata": {},
   "source": [
    "Lorsque vous évaluez cette cellule, la correction vous montre :\n",
    "\n",
    "* dans la première colonne l'appel qui est fait à votre fonction ;\n",
    "* dans la seconde colonne la valeur attendue pour `inconnue` ;\n",
    "* dans la troisième colonne ce que votre code a réellement calculé.\n",
    "\n",
    "Si toutes les lignes sont **en vert** c'est que vous avez réussi cet exercice."
   ]
  },
  {
   "cell_type": "markdown",
   "id": "ba4123fe",
   "metadata": {},
   "source": [
    "Vous pouvez essayer autant de fois que vous voulez, mais il vous faut alors à chaque itération :\n",
    "\n",
    "* évaluer votre cellule-réponse (là où vous définissez la fonction `inconnue`) ;\n",
    "* et ensuite évaluer la cellule correction pour la mettre à jour."
   ]
  }
 ],
 "metadata": {
  "jupytext": {
   "cell_metadata_filter": "all, -hidden, -heading_collapsed, -run_control, -trusted",
   "notebook_metadata_filter": "all, -jupytext.text_representation.jupytext_version, -jupytext.text_representation.format_version, -language_info.version, -language_info.codemirror_mode.version, -language_info.codemirror_mode, -language_info.file_extension, -language_info.mimetype, -toc",
   "text_representation": {
    "extension": ".md",
    "format_name": "myst"
   }
  },
  "kernelspec": {
   "display_name": "Python 3 (ipykernel)",
   "language": "python",
   "name": "python3"
  },
  "language_info": {
   "name": "python",
   "nbconvert_exporter": "python",
   "pygments_lexer": "ipython3"
  },
  "notebookname": "Séquences",
  "version": "3.0"
 },
 "nbformat": 4,
 "nbformat_minor": 5
}
