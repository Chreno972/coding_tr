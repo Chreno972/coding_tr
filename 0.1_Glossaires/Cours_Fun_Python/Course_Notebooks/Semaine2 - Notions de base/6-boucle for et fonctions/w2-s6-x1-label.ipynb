{
 "cells": [
  {
   "cell_type": "markdown",
   "id": "a7a60f46",
   "metadata": {},
   "source": [
    "<div class=\"licence\">\n",
    "<span>Licence CC BY-NC-ND</span>\n",
    "<span>Thierry Parmentelat &amp; Arnaud Legout</span>\n",
    "<span><img src=\"media/both-logos-small-alpha.png\" /></span>\n",
    "</div>"
   ]
  },
  {
   "cell_type": "markdown",
   "id": "7b3f1e06",
   "metadata": {},
   "source": [
    "# Formatage des chaines de caractères"
   ]
  },
  {
   "cell_type": "markdown",
   "id": "a24506bf",
   "metadata": {},
   "source": [
    "## Exercice - niveau basique\n",
    "\n",
    "Vous devez écrire une fonction qui prend deux arguments :\n",
    "\n",
    "* une chaîne de caractères qui désigne le prénom d'un élève ;\n",
    "* un entier qui indique la note obtenue.\n",
    "\n",
    "Elle devra retourner une chaîne de caractères selon que la note est\n",
    "\n",
    "* $0  \\leqslant note \\lt 10$\n",
    "* $10 \\leqslant note \\lt 16$\n",
    "* $16 \\leqslant note \\leqslant 20$\n",
    "\n",
    "comme on le voit sur les exemples :"
   ]
  },
  {
   "cell_type": "code",
   "execution_count": null,
   "id": "d8d11e37",
   "metadata": {},
   "outputs": [],
   "source": [
    "from corrections.exo_label import exo_label\n",
    "exo_label.example()"
   ]
  },
  {
   "cell_type": "code",
   "execution_count": null,
   "id": "b5abbbe1",
   "metadata": {},
   "outputs": [],
   "source": [
    "# à vous de jouer\n",
    "def label(prenom, note):\n",
    "    \"votre code\""
   ]
  },
  {
   "cell_type": "code",
   "execution_count": null,
   "id": "22c40726",
   "metadata": {},
   "outputs": [],
   "source": [
    "# pour corriger\n",
    "exo_label.correction(label)"
   ]
  }
 ],
 "metadata": {
  "jupytext": {
   "cell_metadata_filter": "all, -hidden, -heading_collapsed, -run_control, -trusted",
   "notebook_metadata_filter": "all, -jupytext.text_representation.jupytext_version, -jupytext.text_representation.format_version, -language_info.version, -language_info.codemirror_mode.version, -language_info.codemirror_mode, -language_info.file_extension, -language_info.mimetype, -toc",
   "text_representation": {
    "extension": ".md",
    "format_name": "myst"
   }
  },
  "kernelspec": {
   "display_name": "Python 3 (ipykernel)",
   "language": "python",
   "name": "python3"
  },
  "language_info": {
   "name": "python",
   "nbconvert_exporter": "python",
   "pygments_lexer": "ipython3"
  },
  "notebookname": "Format",
  "version": "3.0"
 },
 "nbformat": 4,
 "nbformat_minor": 5
}
