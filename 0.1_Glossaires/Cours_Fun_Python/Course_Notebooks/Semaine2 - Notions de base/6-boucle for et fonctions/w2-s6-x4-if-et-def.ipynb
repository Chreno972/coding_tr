{
 "cells": [
  {
   "cell_type": "markdown",
   "id": "f8570024",
   "metadata": {},
   "source": [
    "<div class=\"licence\">\n",
    "<span>Licence CC BY-NC-ND</span>\n",
    "<span>Thierry Parmentelat &amp; Arnaud Legout</span>\n",
    "<span><img src=\"media/both-logos-small-alpha.png\" /></span>\n",
    "</div>"
   ]
  },
  {
   "cell_type": "markdown",
   "id": "0aca5312",
   "metadata": {},
   "source": [
    "# Instruction `if` et fonction `def`"
   ]
  },
  {
   "cell_type": "markdown",
   "id": "af59307d",
   "metadata": {},
   "source": [
    "## Exercice - niveau basique"
   ]
  },
  {
   "cell_type": "markdown",
   "id": "d5ac5159",
   "metadata": {},
   "source": [
    "### Fonction de divisibilité"
   ]
  },
  {
   "cell_type": "markdown",
   "id": "fcedcc0f",
   "metadata": {},
   "source": [
    "L'exercice consiste à écrire une fonction baptisée `divisible` qui retourne une valeur booléenne, qui indique si un des deux arguments est divisible par l'autre.\n",
    "\n",
    "Vous pouvez supposer les entrées `a` et `b` entiers et non nuls, mais pas forcément positifs."
   ]
  },
  {
   "cell_type": "code",
   "execution_count": null,
   "id": "247e061f",
   "metadata": {
    "tags": []
   },
   "outputs": [],
   "source": [
    "# par exemple\n",
    "from corrections.exo_divisible import exo_divisible\n",
    "exo_divisible.example()"
   ]
  },
  {
   "cell_type": "code",
   "execution_count": null,
   "id": "25b0bbd5",
   "metadata": {},
   "outputs": [],
   "source": [
    "def divisible(a, b):\n",
    "    \"<votre_code>\""
   ]
  },
  {
   "cell_type": "markdown",
   "id": "2efde972",
   "metadata": {},
   "source": [
    "Vous pouvez à présent tester votre code en évaluant ceci, qui écrira un message d'erreur si un des jeux de test ne donne pas le résultat attendu."
   ]
  },
  {
   "cell_type": "code",
   "execution_count": null,
   "id": "02e11f28",
   "metadata": {},
   "outputs": [],
   "source": [
    "# tester votre code\n",
    "exo_divisible.correction(divisible)"
   ]
  },
  {
   "cell_type": "markdown",
   "id": "85cfcbf6",
   "metadata": {},
   "source": [
    "## Exercice - niveau basique"
   ]
  },
  {
   "cell_type": "markdown",
   "id": "8d916b13",
   "metadata": {},
   "source": [
    "##### Fonction définie par morceaux\n",
    "\n",
    "On veut définir en Python une fonction qui est définie par morceaux :"
   ]
  },
  {
   "cell_type": "markdown",
   "id": "c3d6b1cd",
   "metadata": {},
   "source": [
    "$$\n",
    "f: x \\longrightarrow \\left\\{\n",
    "\\begin{array}{ll}\n",
    "-x - 5          & \\mbox{si } x \\leqslant -5 \\\\\n",
    "0               & \\mbox{si } x \\in [-5, 5]  \\\\\n",
    "\\frac{1}{5}x -1 & \\mbox{si } x \\geqslant 5  \\\\\n",
    "\\end{array}\n",
    "\\right.\n",
    "$$"
   ]
  },
  {
   "cell_type": "code",
   "execution_count": null,
   "id": "ad34bda5",
   "metadata": {},
   "outputs": [],
   "source": [
    "# donc par exemple\n",
    "from corrections.exo_morceaux import exo_morceaux\n",
    "exo_morceaux.example()"
   ]
  },
  {
   "cell_type": "code",
   "execution_count": null,
   "id": "90a751f8",
   "metadata": {},
   "outputs": [],
   "source": [
    "# à vous de jouer\n",
    "\n",
    "def morceaux(x):\n",
    "    return 0 # \"votre code\""
   ]
  },
  {
   "cell_type": "code",
   "execution_count": null,
   "id": "24f269ce",
   "metadata": {},
   "outputs": [],
   "source": [
    "# pour corriger votre code\n",
    "exo_morceaux.correction(morceaux)"
   ]
  },
  {
   "cell_type": "markdown",
   "id": "c8058ac2",
   "metadata": {},
   "source": [
    "##### Représentation graphique"
   ]
  },
  {
   "cell_type": "markdown",
   "id": "a2d2f426",
   "metadata": {},
   "source": [
    "L'exercice est terminé, mais nous allons maintenant voir ensemble comment vous pourriez visualiser votre fonction.\n",
    "\n",
    "Voici ce qui est attendu comme courbe pour `morceaux` (image fixe) :\n",
    "![graphe morceaux](media/morceaux.png)"
   ]
  },
  {
   "cell_type": "markdown",
   "id": "47f04db8",
   "metadata": {},
   "source": [
    "En partant de votre code, vous pouvez produire votre propre courbe en utilisant `numpy` et `matplotlib` comme ceci :"
   ]
  },
  {
   "cell_type": "code",
   "execution_count": null,
   "id": "ae509a23",
   "metadata": {},
   "outputs": [],
   "source": [
    "# on importe les bibliothèques\n",
    "import numpy as np\n",
    "import matplotlib.pyplot as plt"
   ]
  },
  {
   "cell_type": "code",
   "execution_count": null,
   "id": "127585ef",
   "metadata": {},
   "outputs": [],
   "source": [
    "# un échantillon des X entre -10 et 20\n",
    "X = np.linspace(-10, 20)\n",
    "\n",
    "# et les Y correspondants\n",
    "Y = np.vectorize(morceaux)(X)"
   ]
  },
  {
   "cell_type": "code",
   "execution_count": null,
   "id": "39d78b47",
   "metadata": {},
   "outputs": [],
   "source": [
    "# on n'a plus qu'à dessiner\n",
    "plt.plot(X, Y)\n",
    "plt.show()"
   ]
  }
 ],
 "metadata": {
  "jupytext": {
   "cell_metadata_filter": "all, -hidden, -heading_collapsed, -run_control, -trusted",
   "notebook_metadata_filter": "all, -jupytext.text_representation.jupytext_version, -jupytext.text_representation.format_version, -language_info.version, -language_info.codemirror_mode.version, -language_info.codemirror_mode, -language_info.file_extension, -language_info.mimetype, -toc",
   "text_representation": {
    "extension": ".md",
    "format_name": "myst"
   }
  },
  "kernelspec": {
   "display_name": "Python 3 (ipykernel)",
   "language": "python",
   "name": "python3"
  },
  "language_info": {
   "name": "python",
   "nbconvert_exporter": "python",
   "pygments_lexer": "ipython3"
  },
  "notebookname": "if et def",
  "version": "3.0"
 },
 "nbformat": 4,
 "nbformat_minor": 5
}
