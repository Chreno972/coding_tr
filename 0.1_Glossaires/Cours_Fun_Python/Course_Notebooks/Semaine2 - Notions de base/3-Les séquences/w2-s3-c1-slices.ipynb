{
 "cells": [
  {
   "cell_type": "markdown",
   "id": "8c8cd213",
   "metadata": {
    "pycharm": {
     "name": "#%% md\n"
    }
   },
   "source": [
    "# Les slices en Python"
   ]
  },
  {
   "cell_type": "markdown",
   "id": "cc00da22",
   "metadata": {
    "pycharm": {
     "name": "#%% md\n"
    }
   },
   "source": [
    "## Complément - niveau basique"
   ]
  },
  {
   "cell_type": "markdown",
   "id": "55662b46",
   "metadata": {
    "pycharm": {
     "name": "#%% md\n"
    }
   },
   "source": [
    "Ce support de cours reprend les notions de *slicing* vues dans la vidéo."
   ]
  },
  {
   "cell_type": "markdown",
   "id": "076dc3f6",
   "metadata": {
    "pycharm": {
     "name": "#%% md\n"
    }
   },
   "source": [
    "Nous allons illustrer les slices sur la chaîne suivante, rappelez-vous toutefois que ce mécanisme fonctionne avec toutes les séquences que l'on verra plus tard, comme les listes ou les tuples."
   ]
  },
  {
   "cell_type": "code",
   "execution_count": null,
   "id": "aea457a6",
   "metadata": {
    "pycharm": {
     "name": "#%%\n"
    }
   },
   "outputs": [],
   "source": [
    "chaine = \"abcdefghijklmnopqrstuvwxyz\"\n",
    "print(chaine)"
   ]
  },
  {
   "cell_type": "markdown",
   "id": "2045055e",
   "metadata": {
    "pycharm": {
     "name": "#%% md\n"
    }
   },
   "source": [
    "### Slice sans pas"
   ]
  },
  {
   "cell_type": "markdown",
   "id": "4b6bdc8b",
   "metadata": {
    "pycharm": {
     "name": "#%% md\n"
    }
   },
   "source": [
    "On a vu en cours qu'une slice permet de désigner toute une plage d'éléments d'une séquence. Ainsi on peut écrire :"
   ]
  },
  {
   "cell_type": "code",
   "execution_count": null,
   "id": "64ab7ca3",
   "metadata": {
    "pycharm": {
     "name": "#%%\n"
    }
   },
   "outputs": [],
   "source": [
    "chaine[2:6]"
   ]
  },
  {
   "cell_type": "markdown",
   "id": "a1becfa1",
   "metadata": {
    "pycharm": {
     "name": "#%% md\n"
    }
   },
   "source": [
    "### Conventions de début et fin"
   ]
  },
  {
   "cell_type": "markdown",
   "id": "5859fa28",
   "metadata": {
    "pycharm": {
     "name": "#%% md\n"
    }
   },
   "source": [
    "Les débutants ont parfois du mal avec les bornes. Il faut se souvenir que :\n",
    "\n",
    "* les indices **commencent** comme toujours **à zéro** ;\n",
    "* le premier indice `debut` est **inclus** ;\n",
    "* le second indice `fin` est **exclu** ;\n",
    "* on obtient en tout `fin-debut` items dans le résultat.\n",
    "\n",
    "Ainsi, ci-dessus, le résultat contient `6 - 2 = 4` éléments."
   ]
  },
  {
   "cell_type": "markdown",
   "id": "70c027b8",
   "metadata": {
    "pycharm": {
     "name": "#%% md\n"
    }
   },
   "source": [
    "Pour vous aider à vous souvenir des conventions de début et de fin, souvenez-vous qu'on veut pouvoir facilement juxtaposer deux slices qui ont une borne commune.\n",
    "\n",
    "C'est-à-dire qu'avec :"
   ]
  },
  {
   "cell_type": "markdown",
   "id": "d9cd7414",
   "metadata": {
    "pycharm": {
     "name": "#%% md\n"
    }
   },
   "source": [
    "![début et fin](media/brackets.png)"
   ]
  },
  {
   "cell_type": "code",
   "execution_count": null,
   "id": "de78082c",
   "metadata": {
    "pycharm": {
     "name": "#%%\n"
    }
   },
   "outputs": [],
   "source": [
    "# chaine[a:b] + chaine[b:c] == chaine[a:c]\n",
    "chaine[0:3] + chaine[3:7] == chaine[0:7]"
   ]
  },
  {
   "cell_type": "markdown",
   "id": "f8ab7e9b",
   "metadata": {
    "pycharm": {
     "name": "#%% md\n"
    }
   },
   "source": [
    "#### Bornes omises"
   ]
  },
  {
   "cell_type": "markdown",
   "id": "90f30a24",
   "metadata": {
    "pycharm": {
     "name": "#%% md\n"
    }
   },
   "source": [
    "On peut omettre une borne :"
   ]
  },
  {
   "cell_type": "code",
   "execution_count": null,
   "id": "07c7a3e2",
   "metadata": {
    "pycharm": {
     "name": "#%%\n"
    }
   },
   "outputs": [],
   "source": [
    "# si on omet la première borne, cela signifie que\n",
    "# la slice commence au début de l'objet\n",
    "chaine[:6]"
   ]
  },
  {
   "cell_type": "code",
   "execution_count": null,
   "id": "b0e1bf8d",
   "metadata": {
    "pycharm": {
     "name": "#%%\n"
    }
   },
   "outputs": [],
   "source": [
    "# et bien entendu c'est la même chose si on omet la deuxième borne\n",
    "chaine[24:]"
   ]
  },
  {
   "cell_type": "code",
   "execution_count": null,
   "id": "ed8656b4",
   "metadata": {
    "pycharm": {
     "name": "#%%\n"
    }
   },
   "outputs": [],
   "source": [
    "# ou même omettre les deux bornes, auquel cas on\n",
    "# fait une copie de l'objet - on y reviendra plus tard\n",
    "chaine[:]"
   ]
  },
  {
   "cell_type": "markdown",
   "id": "49d1d5de",
   "metadata": {
    "pycharm": {
     "name": "#%% md\n"
    }
   },
   "source": [
    "#### Indices négatifs"
   ]
  },
  {
   "cell_type": "markdown",
   "id": "4fc20a2d",
   "metadata": {
    "pycharm": {
     "name": "#%% md\n"
    }
   },
   "source": [
    "On peut utiliser des indices négatifs pour compter à partir de la fin :"
   ]
  },
  {
   "cell_type": "code",
   "execution_count": null,
   "id": "c68f541e",
   "metadata": {
    "pycharm": {
     "name": "#%%\n"
    }
   },
   "outputs": [],
   "source": [
    "chaine[3:-3]"
   ]
  },
  {
   "cell_type": "code",
   "execution_count": null,
   "id": "8e98061c",
   "metadata": {
    "pycharm": {
     "name": "#%%\n"
    }
   },
   "outputs": [],
   "source": [
    "chaine[-3:]"
   ]
  },
  {
   "cell_type": "markdown",
   "id": "e44bd82f",
   "metadata": {
    "pycharm": {
     "name": "#%% md\n"
    }
   },
   "source": [
    "### Slice avec pas"
   ]
  },
  {
   "cell_type": "markdown",
   "id": "fb623bf2",
   "metadata": {
    "pycharm": {
     "name": "#%% md\n"
    }
   },
   "source": [
    "Il est également possible de préciser un *pas*, de façon à ne choisir par exemple, dans la plage donnée, qu'un élément sur deux :"
   ]
  },
  {
   "cell_type": "code",
   "execution_count": null,
   "id": "76376ea0",
   "metadata": {
    "pycharm": {
     "name": "#%%\n"
    }
   },
   "outputs": [],
   "source": [
    "# le pas est précisé après un deuxième deux-points (:)\n",
    "# ici on va choisir un caractère sur deux dans la plage [3:-3]\n",
    "chaine[3:-3:2]"
   ]
  },
  {
   "cell_type": "markdown",
   "id": "2855611b",
   "metadata": {
    "pycharm": {
     "name": "#%% md\n"
    }
   },
   "source": [
    "Comme on le devine, le troisième élément de la slice, ici `2`, détermine le pas. On ne retient donc, dans la chaîne `defghi...` que `d`, puis `f`, et ainsi de suite.\n",
    "\n",
    "On peut préciser du coup la borne de fin (ici `-3`) avec un peu de liberté, puisqu'ici on obtiendrait un résultat identique avec `-4`."
   ]
  },
  {
   "cell_type": "code",
   "execution_count": null,
   "id": "b7c91a50",
   "metadata": {
    "pycharm": {
     "name": "#%%\n"
    }
   },
   "outputs": [],
   "source": [
    "chaine[3:-4:2]"
   ]
  },
  {
   "cell_type": "markdown",
   "id": "d8fb0735",
   "metadata": {
    "pycharm": {
     "name": "#%% md\n"
    }
   },
   "source": [
    "### Pas négatif"
   ]
  },
  {
   "cell_type": "markdown",
   "id": "f4246d22",
   "metadata": {
    "pycharm": {
     "name": "#%% md\n"
    }
   },
   "source": [
    "Il est même possible de spécifier un pas négatif. Dans ce cas, de manière un peu contre-intuitive, il faut préciser un début (le premier indice de la slice) qui soit *plus à droite* que la fin (le second indice).\n",
    "\n",
    "Pour prendre un exemple, comme l'élément d'indice `-3`, c'est-à-dire `x`, est plus à droite que l'élément d'indice `3`, c'est-à-dire `d`, évidemment si on ne précisait pas le pas (qui revient à choisir un pas égal à `1`), on obtiendrait une liste vide :"
   ]
  },
  {
   "cell_type": "code",
   "execution_count": null,
   "id": "ebd13cc8",
   "metadata": {
    "pycharm": {
     "name": "#%%\n"
    }
   },
   "outputs": [],
   "source": [
    "chaine[-3:3]"
   ]
  },
  {
   "cell_type": "markdown",
   "id": "e9f7cc77",
   "metadata": {
    "pycharm": {
     "name": "#%% md\n"
    }
   },
   "source": [
    "Si maintenant on précise un pas négatif, on obtient cette fois :"
   ]
  },
  {
   "cell_type": "code",
   "execution_count": null,
   "id": "fc8877ba",
   "metadata": {
    "pycharm": {
     "name": "#%%\n"
    }
   },
   "outputs": [],
   "source": [
    "chaine[-3:3:-2]"
   ]
  },
  {
   "cell_type": "markdown",
   "id": "831ea8bc",
   "metadata": {
    "pycharm": {
     "name": "#%% md\n"
    }
   },
   "source": [
    "### Conclusion"
   ]
  },
  {
   "cell_type": "markdown",
   "id": "29e33ef0",
   "metadata": {
    "pycharm": {
     "name": "#%% md\n"
    }
   },
   "source": [
    "À nouveau, souvenez-vous que tous ces mécanismes fonctionnent avec de nombreux autres types que les chaînes de caractères. En voici deux exemples qui anticipent tous les deux sur la suite, mais qui devraient illustrer les vastes possibilités qui sont offertes avec les slices."
   ]
  },
  {
   "cell_type": "markdown",
   "id": "081ff4e4",
   "metadata": {
    "pycharm": {
     "name": "#%% md\n"
    }
   },
   "source": [
    "#### Listes"
   ]
  },
  {
   "cell_type": "markdown",
   "id": "e2916136",
   "metadata": {
    "pycharm": {
     "name": "#%% md\n"
    }
   },
   "source": [
    "Par exemple sur les listes :"
   ]
  },
  {
   "cell_type": "code",
   "execution_count": null,
   "id": "92f13192",
   "metadata": {
    "pycharm": {
     "name": "#%%\n"
    }
   },
   "outputs": [],
   "source": [
    "liste = [1, 2, 4, 8, 16, 32]\n",
    "liste"
   ]
  },
  {
   "cell_type": "code",
   "execution_count": null,
   "id": "b662e5f1",
   "metadata": {
    "pycharm": {
     "name": "#%%\n"
    }
   },
   "outputs": [],
   "source": [
    "liste[-1:1:-2]"
   ]
  },
  {
   "cell_type": "markdown",
   "id": "5f67b50d",
   "metadata": {
    "pycharm": {
     "name": "#%% md\n"
    }
   },
   "source": [
    "Et même ceci, qui peut être déroutant. Nous reviendrons dessus."
   ]
  },
  {
   "cell_type": "code",
   "execution_count": null,
   "id": "33e72624",
   "metadata": {
    "pycharm": {
     "name": "#%%\n"
    }
   },
   "outputs": [],
   "source": [
    "liste[2:4] = [10, 20, 30]\n",
    "liste"
   ]
  },
  {
   "cell_type": "markdown",
   "id": "c459b7e1",
   "metadata": {
    "pycharm": {
     "name": "#%% md\n"
    }
   },
   "source": [
    "Voici une représentation imagée de ce qui se passe lorsqu'on exécute cette dernière ligne de code; cela revient en quelque sorte à *remplacer* la slice à gauche de l'affectation (ici `liste[2:4]`) par la liste à droite de l'affectation (ici `[10, 20, 30]` - ce qui a, en général, pour effet de modifier la longueur de la liste."
   ]
  },
  {
   "cell_type": "markdown",
   "id": "7858b1e9",
   "metadata": {
    "pycharm": {
     "name": "#%% md\n"
    }
   },
   "source": [
    "![](media/writing-a-list-slice.png)"
   ]
  },
  {
   "cell_type": "markdown",
   "id": "f274b1d4",
   "metadata": {
    "pycharm": {
     "name": "#%% md\n"
    }
   },
   "source": [
    "## Complément - niveau avancé"
   ]
  },
  {
   "cell_type": "markdown",
   "id": "1d8970a5",
   "metadata": {
    "pycharm": {
     "name": "#%% md\n"
    }
   },
   "source": [
    "#### `numpy`"
   ]
  },
  {
   "cell_type": "markdown",
   "id": "5baa6e2b",
   "metadata": {
    "pycharm": {
     "name": "#%% md\n"
    }
   },
   "source": [
    "La bibliothèque `numpy` permet de manipuler des tableaux ou des matrices. En anticipant (beaucoup) sur son usage que nous reverrons bien entendu en détail, voici un aperçu de ce que l'on peut faire avec des slices sur des objets `numpy` :"
   ]
  },
  {
   "cell_type": "code",
   "execution_count": null,
   "id": "f7f66b25",
   "metadata": {
    "pycharm": {
     "name": "#%%\n"
    }
   },
   "outputs": [],
   "source": [
    "# ces deux premières cellules sont à admettre\n",
    "# on construit un tableau ligne\n",
    "import numpy as np\n",
    "\n",
    "un_cinq = np.array([1, 2, 3, 4, 5])\n",
    "un_cinq"
   ]
  },
  {
   "cell_type": "code",
   "execution_count": null,
   "id": "d4f781be",
   "metadata": {
    "pycharm": {
     "name": "#%%\n"
    }
   },
   "outputs": [],
   "source": [
    "# ces deux premières cellules sont à admettre\n",
    "# on le combine avec lui-même - et en utilisant une slice un peu magique\n",
    "# pour former un tableau carré 5x5\n",
    "\n",
    "array = 10 * un_cinq[:, np.newaxis] + un_cinq\n",
    "array"
   ]
  },
  {
   "cell_type": "markdown",
   "id": "5f406599",
   "metadata": {
    "pycharm": {
     "name": "#%% md\n"
    }
   },
   "source": [
    "Sur ce tableau de taille 5x5, nous pouvons aussi faire du slicing et extraire le sous-tableau 3x3 au centre :"
   ]
  },
  {
   "cell_type": "code",
   "execution_count": null,
   "id": "29ed821a",
   "metadata": {
    "pycharm": {
     "name": "#%%\n"
    }
   },
   "outputs": [],
   "source": [
    "centre = array[1:4, 1:4]\n",
    "centre"
   ]
  },
  {
   "cell_type": "markdown",
   "id": "0f046ced",
   "metadata": {
    "pycharm": {
     "name": "#%% md\n"
    }
   },
   "source": [
    "On peut bien sûr également utiliser un pas :"
   ]
  },
  {
   "cell_type": "code",
   "execution_count": null,
   "id": "5557e707",
   "metadata": {
    "pycharm": {
     "name": "#%%\n"
    }
   },
   "outputs": [],
   "source": [
    "coins = array[::4, ::4]\n",
    "coins"
   ]
  },
  {
   "cell_type": "markdown",
   "id": "d5bae21f",
   "metadata": {
    "pycharm": {
     "name": "#%% md\n"
    }
   },
   "source": [
    "Ou bien retourner complètement dans une direction :"
   ]
  },
  {
   "cell_type": "code",
   "execution_count": null,
   "id": "5512032d",
   "metadata": {
    "pycharm": {
     "name": "#%%\n"
    }
   },
   "outputs": [],
   "source": [
    "tete_en_bas = array[::-1,:]\n",
    "tete_en_bas"
   ]
  }
 ],
 "metadata": {
  "ipub": {
   "sphinx": {
    "toggle_input": true,
    "toggle_input_all": true,
    "toggle_output": true,
    "toggle_output_all": true
   }
  },
  "jupytext": {
   "cell_metadata_filter": "all, -hidden, -heading_collapsed, -run_control, -trusted",
   "encoding": "# -*- coding: utf-8 -*-",
   "notebook_metadata_filter": "all, -jupytext.text_representation.jupytext_version, -jupytext.text_representation.format_version, -language_info.version, -language_info.codemirror_mode.version, -language_info.codemirror_mode, -language_info.file_extension, -language_info.mimetype, -toc",
   "text_representation": {
    "extension": ".md",
    "format_name": "myst"
   }
  },
  "kernelspec": {
   "display_name": "Python 3 (ipykernel)",
   "language": "python",
   "name": "python3"
  },
  "language_info": {
   "name": "python",
   "nbconvert_exporter": "python",
   "pygments_lexer": "ipython3"
  },
  "livereveal": {
   "auto_select": "code",
   "auto_select_fragment": true,
   "autolaunch": false,
   "backimage": "media/nologo.png",
   "height": "100%",
   "slideNumber": "c",
   "start_slideshow_at": "selected",
   "theme": "simple",
   "transition": "fade",
   "width": "100%"
  },
  "notebookname": "Slicing",
  "version": "3.0"
 },
 "nbformat": 4,
 "nbformat_minor": 5
}