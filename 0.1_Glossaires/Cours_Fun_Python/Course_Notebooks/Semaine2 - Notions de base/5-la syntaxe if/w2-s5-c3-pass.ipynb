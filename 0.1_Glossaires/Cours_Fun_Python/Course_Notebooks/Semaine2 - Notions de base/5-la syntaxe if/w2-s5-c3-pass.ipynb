{
 "cells": [
  {
   "cell_type": "markdown",
   "id": "d7449c07",
   "metadata": {},
   "source": [
    "<div class=\"licence\">\n",
    "<span>Licence CC BY-NC-ND</span>\n",
    "<span>Thierry Parmentelat &amp; Arnaud Legout</span>\n",
    "<span><img src=\"media/both-logos-small-alpha.png\" /></span>\n",
    "</div>"
   ]
  },
  {
   "cell_type": "markdown",
   "id": "b05e5d29",
   "metadata": {},
   "source": [
    "# L'instruction `pass`"
   ]
  },
  {
   "cell_type": "markdown",
   "id": "04a1717c",
   "metadata": {},
   "source": [
    "## Complément - niveau basique"
   ]
  },
  {
   "cell_type": "markdown",
   "id": "298c5402",
   "metadata": {},
   "source": [
    "Nous avons vu qu'en Python les blocs de code sont définis par leur indentation."
   ]
  },
  {
   "cell_type": "markdown",
   "id": "15d962c0",
   "metadata": {},
   "source": [
    "### Une fonction vide"
   ]
  },
  {
   "cell_type": "markdown",
   "id": "2e438315",
   "metadata": {},
   "source": [
    "Cette convention a une limitation lorsqu'on essaie de définir un bloc vide. Voyons par exemple comment on définirait en C une fonction qui ne fait rien :"
   ]
  },
  {
   "cell_type": "markdown",
   "id": "eb173b6b",
   "metadata": {},
   "source": [
    "```C\n",
    "/* une fonction C qui ne fait rien */\n",
    "void foo() {}\n",
    "```"
   ]
  },
  {
   "cell_type": "markdown",
   "id": "1c325ddd",
   "metadata": {},
   "source": [
    "Comme en Python on n'a pas d'accolade pour délimiter les blocs de code, il existe une instruction `pass`, qui ne fait rien. À l'aide de cette instruction on peut à présent définir une fonction vide comme ceci :"
   ]
  },
  {
   "cell_type": "code",
   "execution_count": null,
   "id": "2f6b1a1f",
   "metadata": {},
   "outputs": [],
   "source": [
    "# une fonction Python qui ne fait rien\n",
    "def foo():\n",
    "    pass"
   ]
  },
  {
   "cell_type": "markdown",
   "id": "ddacf034",
   "metadata": {},
   "source": [
    "### Une boucle vide"
   ]
  },
  {
   "cell_type": "markdown",
   "id": "d935a196",
   "metadata": {},
   "source": [
    "Pour prendre un second exemple un peu plus pratique, et pour anticiper un peu sur l'instruction `while` que nous verrons très bientôt, voici un exemple d'une boucle vide, c'est à dire sans corps, qui permet de \"dépiler\" dans une liste jusqu'à l'obtention d'une certaine valeur :"
   ]
  },
  {
   "cell_type": "code",
   "execution_count": null,
   "id": "ded23719",
   "metadata": {},
   "outputs": [],
   "source": [
    "liste = list(range(10))\n",
    "print('avant', liste)\n",
    "while liste.pop() != 5:\n",
    "    pass\n",
    "print('après', liste)"
   ]
  },
  {
   "cell_type": "markdown",
   "id": "07710081",
   "metadata": {},
   "source": [
    "On voit qu'ici encore l'instruction `pass` a toute son utilité."
   ]
  },
  {
   "cell_type": "markdown",
   "id": "34d0f847",
   "metadata": {},
   "source": [
    "## Complément - niveau intermédiaire"
   ]
  },
  {
   "cell_type": "markdown",
   "id": "40e24fa2",
   "metadata": {},
   "source": [
    "### Un `if` sans `then`"
   ]
  },
  {
   "cell_type": "code",
   "execution_count": null,
   "id": "3a3ed769",
   "metadata": {},
   "outputs": [],
   "source": [
    "# on utilise dans ces exemples une condition fausse\n",
    "condition = False"
   ]
  },
  {
   "cell_type": "markdown",
   "id": "bad2a6c8",
   "metadata": {},
   "source": [
    "Imaginons qu'on parte d'un code hypothétique qui fasse ceci :"
   ]
  },
  {
   "cell_type": "code",
   "execution_count": null,
   "id": "b6992a79",
   "metadata": {},
   "outputs": [],
   "source": [
    "# la version initiale\n",
    "if condition:\n",
    "    print(\"non\")\n",
    "else:\n",
    "    print(\"bingo\")"
   ]
  },
  {
   "cell_type": "markdown",
   "id": "06ba962b",
   "metadata": {},
   "source": [
    "Et que l'on veuille modifier ce code pour simplement supprimer l'impression de `non`. La syntaxe du langage **ne permet pas** de simplement commenter le premier `print` :\n",
    "```python\n",
    "# si on commente le premier print\n",
    "# la syntaxe devient incorrecte\n",
    "if condition:\n",
    "#    print \"non\"\n",
    "else:\n",
    "    print \"bingo\"\n",
    "```"
   ]
  },
  {
   "cell_type": "markdown",
   "id": "9ec4fe7a",
   "metadata": {},
   "source": [
    "Évidemment ceci pourrait être récrit autrement en inversant la condition, mais parfois on s'efforce de limiter au maximum l'impact d'une modification sur le code. Dans ce genre de situation on préférera écrire plutôt :"
   ]
  },
  {
   "cell_type": "code",
   "execution_count": null,
   "id": "5b276adc",
   "metadata": {},
   "outputs": [],
   "source": [
    "# on peut s'en sortir en ajoutant une instruction pass\n",
    "if condition:\n",
    "#    print \"non\"\n",
    "    pass\n",
    "else:\n",
    "    print(\"bingo\")"
   ]
  },
  {
   "cell_type": "markdown",
   "id": "7ad79e87",
   "metadata": {},
   "source": [
    "### Une classe vide"
   ]
  },
  {
   "cell_type": "markdown",
   "id": "6a118ac3",
   "metadata": {},
   "source": [
    "Enfin, comme on vient de le voir dans la vidéo, on peut aussi utiliser `pass` pour définir une classe vide comme ceci :"
   ]
  },
  {
   "cell_type": "code",
   "execution_count": null,
   "id": "aa6a6654",
   "metadata": {},
   "outputs": [],
   "source": [
    "class Foo:\n",
    "    pass"
   ]
  },
  {
   "cell_type": "code",
   "execution_count": null,
   "id": "bec2e258",
   "metadata": {},
   "outputs": [],
   "source": [
    "foo = Foo()"
   ]
  }
 ],
 "metadata": {
  "jupytext": {
   "cell_metadata_filter": "all, -hidden, -heading_collapsed, -run_control, -trusted",
   "notebook_metadata_filter": "all, -jupytext.text_representation.jupytext_version, -jupytext.text_representation.format_version, -language_info.version, -language_info.codemirror_mode.version, -language_info.codemirror_mode, -language_info.file_extension, -language_info.mimetype, -toc",
   "text_representation": {
    "extension": ".md",
    "format_name": "myst"
   }
  },
  "kernelspec": {
   "display_name": "Python 3 (ipykernel)",
   "language": "python",
   "name": "python3"
  },
  "language_info": {
   "name": "python",
   "nbconvert_exporter": "python",
   "pygments_lexer": "ipython3"
  },
  "notebookname": "Instruction pass",
  "version": "3.0"
 },
 "nbformat": 4,
 "nbformat_minor": 5
}
