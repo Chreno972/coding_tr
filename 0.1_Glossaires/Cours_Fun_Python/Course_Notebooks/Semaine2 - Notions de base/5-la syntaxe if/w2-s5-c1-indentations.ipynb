{
 "cells": [
  {
   "cell_type": "markdown",
   "id": "50a8886d",
   "metadata": {},
   "source": [
    "<div class=\"licence\">\n",
    "<span>Licence CC BY-NC-ND</span>\n",
    "<span>Thierry Parmentelat &amp; Arnaud Legout</span>\n",
    "<span><img src=\"media/both-logos-small-alpha.png\" /></span>\n",
    "</div>"
   ]
  },
  {
   "cell_type": "markdown",
   "id": "acbcaa7d",
   "metadata": {},
   "source": [
    "# Indentations en Python"
   ]
  },
  {
   "cell_type": "markdown",
   "id": "2d4383f0",
   "metadata": {},
   "source": [
    "## Complément - niveau basique"
   ]
  },
  {
   "cell_type": "markdown",
   "id": "a9b9ff02",
   "metadata": {},
   "source": [
    "### Imbrications"
   ]
  },
  {
   "cell_type": "markdown",
   "id": "c6b6c589",
   "metadata": {},
   "source": [
    "Nous l'avons vu dans la vidéo, la pratique la plus courante est d'utiliser systématiquement une indentation de 4 espaces :"
   ]
  },
  {
   "cell_type": "code",
   "execution_count": null,
   "id": "0a7f3b0e",
   "metadata": {},
   "outputs": [],
   "source": [
    "# la convention la plus généralement utilisée\n",
    "# consiste à utiliser une indentation de 4 espaces\n",
    "if 'g' in 'egg':\n",
    "    print('OUI')\n",
    "else:\n",
    "    print('NON')"
   ]
  },
  {
   "cell_type": "markdown",
   "id": "7f6ff1d1",
   "metadata": {},
   "source": [
    "Voyons tout de suite comment on pourrait écrire plusieurs tests imbriqués :"
   ]
  },
  {
   "cell_type": "code",
   "execution_count": null,
   "id": "71a0a800",
   "metadata": {},
   "outputs": [],
   "source": [
    "entree = 'spam'\n",
    "\n",
    "# pour imbriquer il suffit d'indenter de 8 espaces\n",
    "if 'a' in entree:\n",
    "    if 'b' in entree:\n",
    "        cas11 = True\n",
    "        print('a et b')\n",
    "    else:\n",
    "        cas12 = True\n",
    "        print('a mais pas b')\n",
    "else:\n",
    "    if 'b' in entree:\n",
    "        cas21 = True\n",
    "        print('b mais pas a')\n",
    "    else:\n",
    "        cas22 = True\n",
    "        print('ni a ni b')"
   ]
  },
  {
   "cell_type": "markdown",
   "id": "ead03a22",
   "metadata": {},
   "source": [
    "Dans cette construction assez simple, remarquez bien **les deux points ':'** à chaque début de bloc, c'est-à-dire à chaque fin de ligne `if` ou `else`."
   ]
  },
  {
   "cell_type": "markdown",
   "id": "94e654a7",
   "metadata": {},
   "source": [
    "Cette façon d'organiser le code peut paraître très étrange, notamment aux gens habitués à un autre langage de programmation, puisqu'en général les syntaxes des langages sont conçues de manière à être insensibles aux espaces et à la présentation.\n",
    "\n",
    "Comme vous le constaterez à l'usage cependant, une fois qu'on s'y est habitué cette pratique est très agréable, une fois qu'on a écrit la dernière ligne du code, on n'a pas à réfléchir à refermer le bon nombre d'accolades ou de *end*.\n",
    "\n",
    "Par ailleurs, comme pour tous les langages, votre éditeur favori connaît cette syntaxe et va vous aider à respecter la règle des 4 caractères. Nous ne pouvons pas publier ici une liste des commandes disponibles par éditeur, nous vous invitons le cas échéant à échanger entre vous sur le forum pour partager les recettes que vous utilisez avec votre éditeur / environnement de programmation favori."
   ]
  },
  {
   "cell_type": "markdown",
   "id": "b7cacec9",
   "metadata": {},
   "source": [
    "## Complément - niveau intermédiaire"
   ]
  },
  {
   "cell_type": "markdown",
   "id": "16d74e3b",
   "metadata": {},
   "source": [
    "### Espaces *vs* tabulations"
   ]
  },
  {
   "cell_type": "markdown",
   "id": "2d26e32e",
   "metadata": {},
   "source": [
    "#### Version courte"
   ]
  },
  {
   "cell_type": "markdown",
   "id": "26baddf5",
   "metadata": {},
   "source": [
    "Il nous faut par contre donner quelques détails sur un problème que l'on rencontre fréquemment sur du code partagé entre plusieurs personnes quand celles-ci utilisent des environnement différents.\n",
    "\n",
    "Pour faire court, ce problème est **susceptible d'apparaître dès qu'on utilise des tabulations**, plutôt que des espaces, pour implémenter les indentations. Aussi, le message à retenir ici est **de ne jamais utiliser de tabulations dans votre code Python**. Tout bon éditeur Python devrait faire cela par défaut."
   ]
  },
  {
   "cell_type": "markdown",
   "id": "61d67bc0",
   "metadata": {},
   "source": [
    "#### Version longue"
   ]
  },
  {
   "cell_type": "markdown",
   "id": "00eeb0e2",
   "metadata": {},
   "source": [
    "En version longue, il existe un code ASCII pour un caractère qui s'appelle *Tabulation* (alias Control-i, qu'on note aussi `^I`) ; l'interprétation de ce caractère n'étant pas clairement spécifiée, il arrive qu'on se retrouve dans une situation comme la suivante."
   ]
  },
  {
   "cell_type": "markdown",
   "id": "b55ba450",
   "metadata": {},
   "source": [
    "Bernard utilise l'éditeur `vim` ; sous cet éditeur il lui est possible de mettre des tabulations dans son code, et de choisir la valeur de ces tabulations. Aussi il va dans les préférences de `vim`, choisit Tabulation=4, et écrit un programme qu'il voit comme ceci :"
   ]
  },
  {
   "cell_type": "code",
   "execution_count": null,
   "id": "54c96ac9",
   "metadata": {},
   "outputs": [],
   "source": [
    "if 'a' in entree:\n",
    "    if 'b' in entree:\n",
    "        cas11 = True\n",
    "        print('a et b')\n",
    "    else:\n",
    "        cas12 = True\n",
    "        print('a mais pas b')"
   ]
  },
  {
   "cell_type": "markdown",
   "id": "d48b65bf",
   "metadata": {},
   "source": [
    "Sauf qu'en fait, il a mis un mélange de tabulations et d'espaces, et en fait le fichier contient (avec `^I` pour tabulation) :"
   ]
  },
  {
   "cell_type": "markdown",
   "id": "98b30012",
   "metadata": {},
   "source": [
    "```python\n",
    "if 'a' in entree:\n",
    "^Iif 'b' in entree:\n",
    "^I^Icas11 = True\n",
    "    ^Iprint('a et b')\n",
    "^Ielse:\n",
    "^I^Icas12 = True\n",
    "    ^Iprint('a mais pas b')\n",
    "```"
   ]
  },
  {
   "cell_type": "markdown",
   "id": "540d3647",
   "metadata": {},
   "source": [
    "Remarquez le mélange de Tabulations et d'espaces dans les deux lignes avec `print`. Bernard envoie son code à Alice qui utilise `emacs`. Dans son environnement, `emacs` affiche une tabulation comme 8 caractères. Du coup Alice \"voit\" le code suivant :"
   ]
  },
  {
   "cell_type": "markdown",
   "id": "a0dc0d01",
   "metadata": {},
   "source": [
    "```python\n",
    "if 'a' in entree:\n",
    "        if 'b' in entree:\n",
    "                cas11 = True\n",
    "            print('a et b')\n",
    "        else:\n",
    "                cas12 = True\n",
    "            print('a mais pas b')\n",
    "```"
   ]
  },
  {
   "cell_type": "markdown",
   "id": "9a5ecaf1",
   "metadata": {},
   "source": [
    "Bref, c'est la confusion la plus totale. Aussi répétons-le, **n'utilisez jamais de tabulations dans votre code Python**."
   ]
  },
  {
   "cell_type": "markdown",
   "id": "e853a9f0",
   "metadata": {},
   "source": [
    "Ce qui ne veut pas dire qu'il ne faut pas utiliser la touche `Tab` avec votre éditeur - au contraire, c'est une touche très utilisée - mais faites bien la différence entre le fait d'appuyer sur la touche `Tab` et le fait que le fichier sauvé sur disque contient effectivement un caractère tabulation. Votre éditeur favori propose très certainement une option permettant de faire les remplacements idoines pour ne pas écrire de tabulation dans vos fichiers, tout en vous permettant d'indenter votre code avec la touche `Tab`."
   ]
  },
  {
   "cell_type": "markdown",
   "id": "bc5d5c36",
   "metadata": {},
   "source": [
    "Signalons enfin que Python 3 est plus restrictif que Python 2 à cet égard, et interdit de mélanger des espaces et des tabulations sur une même ligne. Ce qui n'enlève rien à notre recommandation."
   ]
  },
  {
   "cell_type": "markdown",
   "id": "48b3df3d",
   "metadata": {},
   "source": [
    "## Complément - niveau avancé"
   ]
  },
  {
   "cell_type": "markdown",
   "id": "5e7bb3a1",
   "metadata": {},
   "source": [
    "Vous pouvez trouver du code qui ne respecte pas la convention des 4 caractères."
   ]
  },
  {
   "cell_type": "markdown",
   "id": "4a5f5070",
   "metadata": {},
   "source": [
    "#### Version courte"
   ]
  },
  {
   "cell_type": "markdown",
   "id": "c26e3c6d",
   "metadata": {},
   "source": [
    "En version courte : **Utilisez toujours des indentations de 4 espaces**."
   ]
  },
  {
   "cell_type": "markdown",
   "id": "84e409fa",
   "metadata": {},
   "source": [
    "#### Version longue"
   ]
  },
  {
   "cell_type": "markdown",
   "id": "e2d57c23",
   "metadata": {},
   "source": [
    "En version longue, et pour les curieux : Python **n'impose pas** que les indentations soient de 4 caractères. Aussi vous pouvez rencontrer un code qui ne respecte pas cette convention, et il nous faut, pour être tout à fait précis sur ce que Python accepte ou non, préciser ce qui est réellement requis par Python."
   ]
  },
  {
   "cell_type": "markdown",
   "id": "685dbbd8",
   "metadata": {},
   "source": [
    "La règle utilisée pour analyser votre code, c'est que toutes les instructions **dans un même bloc** soient présentées avec le même niveau d'indentation. Si deux lignes successives - modulo les blocs imbriqués - ont la même indentation, elles sont dans le même bloc.\n",
    "\n",
    "Voyons quelques exemples. Tout d'abord le code suivant est **légal**, quoique, redisons-le pour la dernière fois, **pas du tout recommandé** :"
   ]
  },
  {
   "cell_type": "code",
   "execution_count": null,
   "id": "76d4e3e5",
   "metadata": {},
   "outputs": [],
   "source": [
    "# code accepté mais pas du tout recommandé\n",
    "if 'a' in 'pas du tout recommande':\n",
    "  succes = True\n",
    "  print('OUI')\n",
    "else:\n",
    "      print('NON')"
   ]
  },
  {
   "cell_type": "markdown",
   "id": "a517f9ab",
   "metadata": {},
   "source": [
    "En effet, les deux blocs (après `if` et après `else`) sont des blocs distincts, ils sont libres d'utiliser deux indentations différentes (ici 2 et 6)."
   ]
  },
  {
   "cell_type": "markdown",
   "id": "b7c770d6",
   "metadata": {},
   "source": [
    "Par contre la construction ci-dessous n'est pas légale :"
   ]
  },
  {
   "cell_type": "code",
   "execution_count": null,
   "id": "7ed20ac6",
   "metadata": {
    "latex:skip-eval": true
   },
   "outputs": [],
   "source": [
    "# ceci n'est pas correct et est rejeté par Python\n",
    "if 'a' in entree:\n",
    "    if 'b' in entree:\n",
    "        cas11 = True\n",
    "        print('a et b')\n",
    "      else:\n",
    "        cas12 = True\n",
    "        print('a mais pas b')"
   ]
  },
  {
   "cell_type": "markdown",
   "id": "6a4d5391",
   "metadata": {},
   "source": [
    "En effet les deux lignes `if` et `else` font logiquement partie du même bloc, elles **doivent** donc avoir la même indentation. Avec cette présentation le lecteur Python émet une erreur et ne peut pas interpréter le code."
   ]
  }
 ],
 "metadata": {
  "jupytext": {
   "cell_metadata_filter": "all, -hidden, -heading_collapsed, -run_control, -trusted",
   "notebook_metadata_filter": "all, -jupytext.text_representation.jupytext_version, -jupytext.text_representation.format_version, -language_info.version, -language_info.codemirror_mode.version, -language_info.codemirror_mode, -language_info.file_extension, -language_info.mimetype, -toc",
   "text_representation": {
    "extension": ".md",
    "format_name": "myst"
   }
  },
  "kernelspec": {
   "display_name": "Python 3 (ipykernel)",
   "language": "python",
   "name": "python3"
  },
  "language_info": {
   "name": "python",
   "nbconvert_exporter": "python",
   "pygments_lexer": "ipython3"
  },
  "notebookname": "Indentations",
  "version": "3.0"
 },
 "nbformat": 4,
 "nbformat_minor": 5
}
